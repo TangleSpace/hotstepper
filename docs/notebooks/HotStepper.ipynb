{
 "cells": [
  {
   "cell_type": "code",
   "execution_count": null,
   "metadata": {},
   "outputs": [],
   "source": [
    "import matplotlib.pyplot as plt\n",
    "import numpy as np\n",
    "import pandas as pd\n",
    "from imports import *\n",
    "import itertools as its\n",
    "import operator\n",
    "from hotstepper.mixins.operations import apply_math_function\n",
    "from hotstepper.utilities.helpers import get_clean_step_data\n",
    "from hotstepper.utilities.helpers import prepare_input,prepare_datetime\n",
    "from datetime import datetime, timedelta\n",
    "import staircase as sc\n",
    "%matplotlib inline\n",
    "\n",
    "import warnings\n",
    "warnings.filterwarnings(\"ignore\")\n"
   ]
  },
  {
   "cell_type": "code",
   "execution_count": null,
   "metadata": {},
   "outputs": [],
   "source": [
    "df = pd.read_csv(r\"..//data/vessel_queue.csv\", parse_dates=['enter', 'leave'], dayfirst=True)\n",
    "\n",
    "#vsteps = Steps.read_dataframe(df.head(175),'enter','leave')\n",
    "vsteps = Steps(use_datetime=True).add_direct(df.enter,df.leave)\n",
    "queue = sc.Stairs(use_dates=True).layer(df.enter, df.leave)\n"
   ]
  },
  {
   "cell_type": "code",
   "execution_count": null,
   "metadata": {},
   "outputs": [],
   "source": [
    "queue.clip(lower=pd.Timestamp(2020,10,10),upper=pd.Timestamp(2020,11,1)).integrate()\n",
    "# sata = vsteps._all_data\n",
    "# mask = np.where(sata[:,2]>9, True,False)\n",
    "# groups = [(group[0],group[-1]) for group in (list(group) for key, group in its.groupby(range(len(mask)), key=mask.__getitem__) if key)]\n",
    "#groups"
   ]
  },
  {
   "cell_type": "code",
   "execution_count": null,
   "metadata": {
    "tags": []
   },
   "outputs": [],
   "source": [
    "#tbase = Basis(Basis.tanh,52416)\n",
    "\n",
    "#p = np.arange(pd.Timestamp(2020,1,31), pd.Timestamp(2020,2,4), pd.Timedelta(minutes=1)).astype(pd.Timestamp)\n",
    "#px = [x.timestamp() for x in p]\n",
    "fig,ax = plt.subplots(nrows=5,figsize=(20,12))\n",
    "\n",
    "#vsteps.clip(lbound=pd.Timestamp(2020,2,1),ubound=pd.Timestamp(2020,2,3)).plot(ax=ax[0])\n",
    "v_ul_clip = vsteps.clip(lbound=pd.Timestamp(2020,2,1),ubound=pd.Timestamp(2020,2,10))\n",
    "#v_ul_clip._start = Utils.ts_to_dt(v_ul_clip._all_keys[1])\n",
    "#print(v_ul_clip._start)\n",
    "v_ul_clip.plot(ax=ax[1])\n",
    "#v_ul_clip.normalise().plot(ax=ax[1],color='r')\n",
    "(v_ul_clip>=8).plot(ax=ax[1],color='blue')\n",
    "\n",
    "((v_ul_clip>=8)/v_ul_clip).plot(ax=ax[1],color='red')\n",
    "(v_ul_clip>=8).normalise().plot(ax=ax[1],color='black')\n",
    "#v_ul_clip.smooth_plot(ax=ax[1],color='g')\n",
    "\n",
    "\n",
    "#first_step_full = (vsteps.steps())[0]\n",
    "#(v_ul_clip.steps())[0].plot(ax=ax[0],color='blue')\n",
    "#ax[0].step(p,first_step(p),color='blue')\n",
    "#ax[0].step(p,(v_ul_clip<<timedelta(minutes=660))(p),color='g')\n",
    "\n",
    "#queue.clip(lower=pd.Timestamp(2020,2,1),upper=pd.Timestamp(2020,3,1)).plot(ax[0])\n",
    "\n",
    "#queue.clip(upper=pd.Timestamp(2020,1,12)).plot(ax[1])\n",
    "# vclip2 = vsteps.clip(ubound=pd.Timestamp(2020,2,8))\n",
    "# vclip2.plot(ax=ax[1])\n",
    "# queue.clip(upper=pd.Timestamp(2020,2,8)).plot(ax=ax[1])\n",
    "\n",
    "# vclip2.normalise().plot(ax=ax[1],color='g')\n",
    "\n",
    "\n",
    "vsteps.clip(lbound=pd.Timestamp(2020,2,1),ubound=pd.Timestamp(2020,5,1)).plot(ax=ax[0],color='r')\n",
    "#vsteps.clip(lbound=pd.Timestamp(2020,2,1)).smooth_plot(ax=ax[0],color='g',linewidth=4)\n",
    "#queue.clip(upper=pd.Timestamp(2020,2,1)).plot(ax[0])\n",
    "\n",
    "#clip_step = Step(start=pd.Timestamp(2020,3,1),end=pd.Timestamp(2020,6,1))\n",
    "clip_step_end = Steps(end=pd.Timestamp(2020,1,10))\n",
    "steps_end = Steps(True).add_direct([None],[pd.Timestamp(2020,1,10)])\n",
    "clip_step_start = Steps(start=pd.Timestamp(2020,5,1))\n",
    "\n",
    "#queue.plot(ax=ax[2])\n",
    "#vsteps.plot(ax=ax[2])\n",
    "#((vsteps*clip_step_end)).plot(ax=ax[2],color='r')\n",
    "#(vsteps-(vsteps*clip_step_start)).plot(ax=ax[2],color='g')\n",
    "#(vsteps-(vsteps*clip_step_end)).plot(ax=ax[2],color='r')\n",
    "#res = apply_aggregate(vsteps,np.subtract,(vsteps*clip_step_end))\n",
    "#res.plot(ax=ax[2],color='r')\n",
    "(vsteps*clip_step_end).plot(ax=ax[2],color='black')\n",
    "(vsteps*steps_end).plot(ax=ax[2],color='r')\n",
    "vsteps.clip(ubound=pd.Timestamp(2020,1,10)).plot(ax=ax[2],color='g')\n",
    "\n",
    "\n",
    "#(vsteps*clip_step).plot(ax=ax[2],color='g')\n",
    "vsteps.plot(ax=ax[4])\n",
    "vsteps.smooth_plot(ax=ax[4],color='g',linewidth=3)\n",
    "#(vsteps).smooth_plot(ax=ax[3],color='r')\n",
    "#(vsteps>>pd.Timedelta(hours=11)).plot(method='function',ax=ax[3],color='g')\n",
    "#vstep_clean = vsteps.clip(ubound=pd.Timestamp(2020,2,12,1,42))\n",
    "vc = vsteps.clip(ubound=pd.Timestamp(2020,1,10))\n",
    "vc.plot(ax=ax[3])\n",
    "vc7 = vc>9\n",
    "vc7.plot(ax=ax[3],color='g')\n",
    "#vc7.normalise(3).plot(ax=ax[3],color='r')\n",
    "vc7.invert(3).plot(ax=ax[3],color='black')\n",
    "#(vc7<<pd.Timedelta(minutes=660)).invert(3).plot(ax=ax[3],color='blue')\n",
    "#vsteps._operate_value_new(10, operator.ge).plot(ax=ax[3],color='orange')\n",
    "\n",
    "# vsteps.clip(ubound=pd.Timestamp(2020,1,12)).plot(ax=ax[3])\n",
    "# ((vsteps.clip(ubound=pd.Timestamp(2020,1,12))>10)).plot(ax=ax[3],color='g')\n",
    "#+Step(weight=10,use_datetime=True)\n",
    "#print((v_ul_clip<<timedelta(minutes=660))(datetime(2020,2,1,6,0)))\n",
    "#ax[2].step(np.arange(len(vsteps[pd.Timestamp(2020,1,1):pd.Timestamp(2020,1,2):pd.Timedelta(minutes=10)])),vsteps[pd.Timestamp(2020,1,1):pd.Timestamp(2020,1,2):pd.Timedelta(minutes=10)])\n",
    "\n",
    "# print(queue.clip(lower=pd.Timestamp(2020,2,1),upper=pd.Timestamp(2020,3,1)).mean())\n",
    "# print((vsteps.clip(lbound=pd.Timestamp(2020,2,1),ubound=pd.Timestamp(2020,3,1))).mean())\n",
    "\n",
    "# print(queue.clip(upper=pd.Timestamp(2020,3,1)).mean())\n",
    "# print((vsteps.clip(ubound=pd.Timestamp(2020,3,1))).mean())\n",
    "\n",
    "# print(queue.clip(lower=pd.Timestamp(2020,2,1)).mean())\n",
    "# print(vsteps.clip(lbound=pd.Timestamp(2020,2,1)).mean())\n",
    "#Utils.prepare_datetime(k[2])\n"
   ]
  },
  {
   "cell_type": "code",
   "execution_count": null,
   "metadata": {},
   "outputs": [],
   "source": [
    "vsteps.summary();"
   ]
  },
  {
   "cell_type": "code",
   "execution_count": null,
   "metadata": {},
   "outputs": [],
   "source": [
    "fig, (ax,ax1) = plt.subplots(nrows=2,figsize=(24,6))\n",
    "#vc = (vsteps*clip_step_end)\n",
    "#vc.plot(ax=ax,color='black')\n",
    "cc = vsteps.clip(lbound=pd.Timestamp(2020,10,10),ubound=pd.Timestamp(2020,11,1))\n",
    "cc.plot(ax=ax,color='g')\n",
    "\n",
    "cl = vsteps.clamp(lbound=pd.Timestamp(2020,10,10),ubound=pd.Timestamp(2020,11,1))\n",
    "\n",
    "\n",
    "cl.plot(ax=ax1)\n",
    "cc.plot(ax=ax1,color='r')\n",
    "queue.clip(lower=pd.Timestamp(2020,10,10),upper=pd.Timestamp(2020,11,1)).plot(ax=ax1)\n",
    "#lines.get_ydata(orig=False)\n",
    "#plt.fill_between(ax.get_children()[0].get_xdata(), 0, ax.get_children()[0].get_ydata(),where='steps')\n",
    "#plt.show()\n",
    "#vc==cc\n",
    "print(cl.integrate(),cc.integrate())\n",
    "cl.compare(cc*Step(start=pd.Timestamp(2020,10,10),end=pd.Timestamp(2020,11,1)))"
   ]
  },
  {
   "cell_type": "code",
   "execution_count": null,
   "metadata": {},
   "outputs": [],
   "source": [
    "vc = vsteps.clip(ubound=pd.Timestamp(2020,1,10))\n",
    "#const = Steps(weight=3)\n",
    "#const = Steps(False).add_direct([None],[None],[3])\n",
    "\n",
    "vc_const = vsteps+3\n",
    "vc_const.plot()\n",
    "#print(const.first(),const.last())"
   ]
  },
  {
   "cell_type": "code",
   "execution_count": null,
   "metadata": {},
   "outputs": [],
   "source": [
    "vc = vsteps.clip(ubound=pd.Timestamp(2020,1,10))\n",
    "p = np.arange(vc.first()-pd.Timedelta(minutes=5),vc.last()+pd.Timedelta(minutes=5),pd.Timedelta(minutes=1)).astype(pd.Timestamp)\n",
    "ax = vc.plot(color='g')\n",
    "queue.clip(upper=pd.Timestamp(2020,1,10)).plot(ax=ax)\n",
    "ax.step(p,vc.step(p),color='r')\n"
   ]
  },
  {
   "cell_type": "code",
   "execution_count": null,
   "metadata": {},
   "outputs": [],
   "source": [
    "\n",
    "#mbase = np.frompyfunc(mybase2,1,1)\n",
    "#tbase = Basis(Basis.sigmoid,5)\n",
    "\n",
    "\n",
    "x = Step(3.75,5)\n",
    "y = Step(5.6,6)\n",
    "y2 = Step(8.2,8.8)\n",
    "y3 = Step(9.2,9.8)\n",
    "\n",
    "#y3.rebase()\n",
    "z = Step(7.2)\n",
    "q = Step(12)\n",
    "\n",
    "p = Step(9,weight=-1)\n",
    "p1 = Step(9.5,weight=-1)\n",
    "\n",
    "ss1 = Steps()\n",
    "ss1 = ss1.add([z,x,y])\n",
    "\n",
    "ss2 = Steps()\n",
    "ss2 = ss2.add([q,x,p])\n",
    "ss3 = Steps().add([Step(4),Step(4),Step(5,6),Step(7),Step(12),Step(9,weight=-1)])\n",
    "\n",
    "y4 = y2 << 0.3\n",
    "ss3 = ss2 + ss1\n",
    "ss4 = ss3+y2\n",
    "ss4 += y3\n",
    "\n",
    "ss5 = Steps().add([y2,y3])\n",
    "\n",
    "yy =  y+y2+y3 + y4\n",
    "fig,ax = plt.subplots(nrows=6,figsize=(18,14))\n",
    "\n",
    "ss1.plot(ax=ax[0])\n",
    "(ss2-yy-yy).plot(ax=ax[1])\n",
    "ss3.plot(ax=ax[2])\n",
    "(ss4+ss3).plot(ax=ax[3])\n",
    "yy.plot(ax=ax[5])\n",
    "(yy-y4).plot(ax=ax[5])\n",
    "\n",
    "y3.reflect().plot(ax=ax[4])\n"
   ]
  },
  {
   "cell_type": "code",
   "execution_count": null,
   "metadata": {},
   "outputs": [],
   "source": [
    "ax = (ss3+y2).plot()\n",
    "(ss3+y2).plot(method='function',ax=ax,color='g',ts_grain=0.05)"
   ]
  },
  {
   "cell_type": "code",
   "execution_count": null,
   "metadata": {},
   "outputs": [],
   "source": [
    "print(queue.integrate(),queue.mean(),queue.var(),queue.mode(),queue.median(),queue.min(),queue.max(),queue.percentile(50),queue.percentile(37))\n",
    "print(vsteps.integrate(),vsteps.mean(),vsteps.var(),vsteps.mode(), vsteps.median(),vsteps.min(),vsteps.max(),vsteps.percentile(50),vsteps.percentile(37))"
   ]
  },
  {
   "cell_type": "code",
   "execution_count": null,
   "metadata": {},
   "outputs": [],
   "source": [
    "vsteps.ecdf_plot()"
   ]
  },
  {
   "cell_type": "code",
   "execution_count": null,
   "metadata": {},
   "outputs": [],
   "source": [
    "vsteps.normalise().integrate()"
   ]
  },
  {
   "cell_type": "code",
   "execution_count": null,
   "metadata": {},
   "outputs": [],
   "source": []
  }
 ],
 "metadata": {
  "kernelspec": {
   "display_name": "Python 3",
   "language": "python",
   "name": "python3"
  },
  "language_info": {
   "codemirror_mode": {
    "name": "ipython",
    "version": 3
   },
   "file_extension": ".py",
   "mimetype": "text/x-python",
   "name": "python",
   "nbconvert_exporter": "python",
   "pygments_lexer": "ipython3",
   "version": "3.8.5-final"
  }
 },
 "nbformat": 4,
 "nbformat_minor": 4
}