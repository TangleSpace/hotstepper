{
 "metadata": {
  "language_info": {
   "codemirror_mode": {
    "name": "ipython",
    "version": 3
   },
   "file_extension": ".py",
   "mimetype": "text/x-python",
   "name": "python",
   "nbconvert_exporter": "python",
   "pygments_lexer": "ipython3",
   "version": "3.8.5-final"
  },
  "orig_nbformat": 2,
  "kernelspec": {
   "name": "python3",
   "display_name": "Python 3",
   "language": "python"
  }
 },
 "nbformat": 4,
 "nbformat_minor": 2,
 "cells": [
  {
   "cell_type": "code",
   "execution_count": null,
   "metadata": {},
   "outputs": [],
   "source": [
    "import warnings\n",
    "\n",
    "\n",
    "import staircase as sc\n",
    "from imports import *\n",
    "import matplotlib.pyplot as plt\n",
    "import numpy as np\n",
    "import pandas as pd\n",
    "\n",
    "import hotstepper as hs\n",
    "from hotstepper.utilities import get_epoch_start,date_to_float_bulk\n",
    "from hotstepper import Bases, Basis\n",
    "\n",
    "import hotstepper.samples as samples\n",
    "warnings.filterwarnings(\"ignore\")"
   ]
  },
  {
   "cell_type": "code",
   "execution_count": null,
   "metadata": {},
   "outputs": [],
   "source": [
    "hs.utilities.is_date_time(pd.Timestamp(2020))"
   ]
  },
  {
   "cell_type": "code",
   "execution_count": null,
   "metadata": {},
   "outputs": [],
   "source": [
    "df = pd.read_csv(r\"..//..//data/vessel_queue.csv\", parse_dates=['enter', 'leave'], dayfirst=True)\n",
    "vsteps = samples.vessel_queue_sample()\n",
    "queue = sc.Stairs(use_dates=True).layer(df.enter,df.leave)\n",
    "#queue = queue.clip(upper=pd.Timestamp(2020,3,1))"
   ]
  },
  {
   "cell_type": "code",
   "execution_count": null,
   "metadata": {},
   "outputs": [],
   "source": [
    "%%timeit -r 3 -n 3\n",
    "vsteps = hs.Steps(use_datetime=True).add_direct(df.enter,df.leave)"
   ]
  },
  {
   "cell_type": "code",
   "execution_count": null,
   "metadata": {},
   "outputs": [],
   "source": [
    "%%timeit -r 3 -n 3\n",
    "queue = sc.Stairs(use_dates=True).layer(df.enter,df.leave)"
   ]
  },
  {
   "cell_type": "code",
   "execution_count": null,
   "metadata": {},
   "outputs": [],
   "source": []
  },
  {
   "cell_type": "code",
   "execution_count": null,
   "metadata": {},
   "outputs": [],
   "source": [
    "#p = np.arange(pd.Timestamp(2020,1,1),pd.Timestamp(2020,3,1),pd.Timedelta(hours=1)).astype(pd.Timestamp)\n",
    "\n",
    "fig,(ax,ax2) = plt.subplots(nrows=2,figsize=(24,8))\n",
    "\n",
    "#vsteps = vsteps.clip(ubound=pd.Timestamp(2020,3,1))\n",
    "vsteps_smooth = vsteps.copy()\n",
    "vsteps_smooth.rebase(hs.Basis(hs.Bases.logit))\n",
    "#vsteps.rebase()\n",
    "vsteps.plot(ax=ax)\n",
    "vsteps_smooth.smooth_plot(ax=ax,color='g')\n",
    "\n",
    "delta_steps = vsteps - vsteps_smooth\n",
    "delta_steps.plot(ax=ax2)\n"
   ]
  },
  {
   "cell_type": "code",
   "execution_count": null,
   "metadata": {},
   "outputs": [],
   "source": [
    "delta_steps.histogram_plot()"
   ]
  },
  {
   "cell_type": "code",
   "execution_count": null,
   "metadata": {},
   "outputs": [],
   "source": [
    "clip_step_end = hs.Step(end=pd.Timestamp(2020,1,10))\n",
    "steps_end = hs.Steps(True).add_direct([None],[pd.Timestamp(2020,1,10)])\n",
    "clip_step_start = hs.Step(start=pd.Timestamp(2020,5,1))\n",
    "\n",
    "ax = vsteps.clip(ubound=pd.Timestamp(2020,1,10)).plot(color='g')\n",
    "(vsteps*clip_step_end).plot(ax=ax,color='black')\n",
    "(vsteps*steps_end).plot(ax=ax,color='r')\n"
   ]
  },
  {
   "cell_type": "code",
   "execution_count": null,
   "metadata": {},
   "outputs": [],
   "source": [
    "s3 = hs.Step(end=13,weight=3)\n",
    "#s3.step([get_epoch_start(False),14])\n",
    "ax = s3.plot(method='function')\n",
    "(s3*s3).plot(ax=ax,color='r')"
   ]
  },
  {
   "cell_type": "code",
   "execution_count": null,
   "metadata": {},
   "outputs": [],
   "source": [
    "vsteps.summary()"
   ]
  },
  {
   "cell_type": "code",
   "execution_count": null,
   "metadata": {},
   "outputs": [],
   "source": [
    "ax = vsteps.plot()\n",
    "vsteps.smooth_plot(ax=ax,color='g')"
   ]
  },
  {
   "cell_type": "code",
   "execution_count": null,
   "metadata": {},
   "outputs": [],
   "source": [
    "p = np.arange(vsteps.first(),vsteps.last(),pd.Timedelta(minutes=10)).astype(pd.Timestamp)\n",
    "p3 = np.arange(vsteps.first().to_numpy(), vsteps.last().to_numpy(),np.timedelta64(10, 'm'),dtype='datetime64[ns]')\n",
    "p2 = np.arange(vsteps.first(),vsteps.last(),pd.Timedelta(minutes=10)).astype(float)"
   ]
  },
  {
   "cell_type": "code",
   "execution_count": null,
   "metadata": {},
   "outputs": [],
   "source": [
    "%%timeit -r 5 -n 5\n",
    "vsteps.fast_step(p)"
   ]
  },
  {
   "cell_type": "code",
   "execution_count": null,
   "metadata": {},
   "outputs": [],
   "source": [
    "%%timeit -r 5 -n 5\n",
    "queue(p)"
   ]
  },
  {
   "cell_type": "code",
   "execution_count": null,
   "metadata": {},
   "outputs": [],
   "source": [
    "fig,ax = plt.subplots(figsize=(24,6))\n",
    "\n",
    "ax.step(p,vsteps[p])"
   ]
  },
  {
   "cell_type": "code",
   "execution_count": null,
   "metadata": {},
   "outputs": [],
   "source": [
    "origin = pd.to_datetime(\"1970-1-1\")\n",
    "\n",
    "d = np.datetime64('1980-01-01T10:12')\n",
    "\n",
    "fd = (d - origin.tz_localize(None)) / pd.Timedelta(1, \"s\")\n",
    "fd"
   ]
  },
  {
   "cell_type": "code",
   "execution_count": null,
   "metadata": {},
   "outputs": [],
   "source": [
    "fd*pd.Timedelta(1, \"s\") + origin"
   ]
  },
  {
   "cell_type": "code",
   "execution_count": null,
   "metadata": {},
   "outputs": [],
   "source": [
    "vsteps[vsteps.first():vsteps.last():pd.Timedelta(minutes=10)]"
   ]
  },
  {
   "cell_type": "code",
   "execution_count": null,
   "metadata": {},
   "outputs": [],
   "source": [
    "vsteps.fast_step(p,side='left')"
   ]
  },
  {
   "cell_type": "code",
   "execution_count": null,
   "metadata": {},
   "outputs": [],
   "source": [
    "import datetime\n",
    "#print(get_ts(datetime.datetime(1980,1,1,10,12)),'\\n',get_ts(pd.Timestamp(1980,1,1,10,12)))\n",
    "print(hs.utilities.date_to_float_bulk(datetime.datetime(1980,1,1,10,12)),'\\n',hs.utilities.date_to_float_bulk(pd.Timestamp(1980,1,1,10,12)))\n",
    "\n",
    "print(hs.utilities.date_to_float_bulk(np.datetime64('nat')),'\\n',hs.utilities.date_to_float_bulk(pd.Timestamp(1980,1,1,10,12)))\n"
   ]
  },
  {
   "cell_type": "code",
   "execution_count": null,
   "metadata": {},
   "outputs": [],
   "source": []
  },
  {
   "cell_type": "code",
   "execution_count": null,
   "metadata": {},
   "outputs": [],
   "source": [
    "vs = vsteps.series().resample('1M',label='right',closed='left').max()\n",
    "vs.plot(drawstyle='steps-post')"
   ]
  },
  {
   "cell_type": "code",
   "execution_count": null,
   "metadata": {},
   "outputs": [],
   "source": [
    "s = vs.index.values.copy()\n",
    "e = vs.index.values.copy()\n",
    "v = vs.values"
   ]
  },
  {
   "cell_type": "code",
   "execution_count": null,
   "metadata": {},
   "outputs": [],
   "source": [
    "v"
   ]
  },
  {
   "cell_type": "code",
   "execution_count": null,
   "metadata": {},
   "outputs": [],
   "source": [
    "#s[0] = None\n",
    "#np.datetime64('2020-01-01')\n",
    "#s = np.insert(s,0,None)\n",
    "#s = np.append(s,np.datetime64('2020-12-31'))\n",
    "\n",
    "#v = np.insert(v,0,s[0])\n",
    "#v = np.append(v,0)\n",
    "\n",
    "#v[0] = v[1]"
   ]
  },
  {
   "cell_type": "code",
   "execution_count": null,
   "metadata": {},
   "outputs": [],
   "source": [
    "v"
   ]
  },
  {
   "cell_type": "code",
   "execution_count": null,
   "metadata": {},
   "outputs": [],
   "source": [
    "vs_min = vsteps.series().resample('1M',label='right',closed='left').min()\n",
    "vs_max = vsteps.series().resample('1M',label='right',closed='left').max()\n",
    "vs_mean = vsteps.series().resample('1M',label='right',closed='left').mean()\n",
    "\n",
    "p= pd.date_range('2020-01-01','2021-02-01' , freq='1M')-pd.offsets.MonthBegin(1)\n",
    "\n",
    "vs_resample_min = hs.Steps.read_array(start=vs_min.index.values,weight=vs_min.values,convert_delta=True)\n",
    "vs_resample_max = hs.Steps.read_array(start=vs_max.index.values,weight=vs_max.values,convert_delta=True)\n",
    "vs_resample_mean = hs.Steps.read_array(start=vs_mean.index.values,weight=vs_mean.values,convert_delta=True)\n",
    "\n",
    "ax = vsteps.plot()\n",
    "ax.step(p,vs_resample_mean.fast_step(p),where='post')\n",
    "ax.step(p,vs_resample_min.fast_step(p),where='post',color='r')\n",
    "ax.step(p,vs_resample_max.fast_step(p),where='post',color='r')"
   ]
  },
  {
   "cell_type": "code",
   "execution_count": null,
   "metadata": {},
   "outputs": [],
   "source": [
    "vs_resample_mean.last()"
   ]
  },
  {
   "cell_type": "code",
   "execution_count": null,
   "metadata": {},
   "outputs": [],
   "source": [
    "vjan = vsteps.clip(ubound=pd.Timestamp(2020,2,1))\n",
    "vjan.mean()"
   ]
  },
  {
   "cell_type": "code",
   "execution_count": null,
   "metadata": {},
   "outputs": [],
   "source": []
  }
 ]
}