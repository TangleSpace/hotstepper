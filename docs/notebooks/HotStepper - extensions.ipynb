{
 "cells": [
  {
   "cell_type": "code",
   "execution_count": 1,
   "metadata": {},
   "outputs": [
    {
     "name": "stderr",
     "output_type": "stream",
     "text": [
      "c:\\python38\\lib\\site-packages\\cupy\\_environment.py:207: ResourceWarning: unclosed file <_io.TextIOWrapper name='c:\\\\python38\\\\lib\\\\site-packages\\\\cupy\\\\.data\\\\_wheel.json' mode='r' encoding='cp1252'>\n",
      "  _preload_config = json.load(open(config_path))\n",
      "ResourceWarning: Enable tracemalloc to get the object allocation traceback\n"
     ]
    }
   ],
   "source": [
    "import matplotlib.pyplot as plt\n",
    "import numpy as np\n",
    "import operator\n",
    "import time\n",
    "import pandas as pd\n",
    "import scipy.stats as st\n",
    "from scipy.integrate import quad\n",
    "from sortedcontainers import SortedDict\n",
    "import staircase as sc\n",
    "from numba import vectorize\n",
    "from HotStepper.Basis import Basis\n",
    "from HotStepper.Step import Step\n",
    "from HotStepper.Steps import Steps\n",
    "from HotStepper.Steps import Analysis\n"
   ]
  },
  {
   "cell_type": "code",
   "execution_count": null,
   "metadata": {},
   "outputs": [],
   "source": [
    "df = pd.read_csv(r\"data/vessel_queue.csv\", parse_dates=['enter', 'leave'], dayfirst=True)\n",
    "\n",
    "df.enter = df.enter.apply(pd.Timestamp)\n",
    "df.leave = df.leave.apply(pd.Timestamp)\n",
    "\n",
    "vsteps = Steps.stepify(df,'enter','leave')\n"
   ]
  },
  {
   "cell_type": "code",
   "execution_count": null,
   "metadata": {},
   "outputs": [],
   "source": [
    "tbase = Basis(Basis.tanh,52416)\n",
    "\n",
    "p = np.arange(pd.Timestamp(2020,1,1), pd.Timestamp(2020,12,30), pd.Timedelta(minutes=10)).astype(pd.Timestamp)\n",
    "fig,ax = plt.subplots(nrows=3,figsize=(20,16))\n",
    "\n",
    "tic = time.perf_counter()\n",
    "#vsteps.rebase(tbase)\n",
    "ax[0].step(p,vsteps.smooth_step_function(p,0.8))\n",
    "toc = time.perf_counter()\n",
    "print(f'Run time: {toc - tic} seconds')\n",
    "\n",
    "dfd = vsteps.to_dataframe()\n",
    "dfd['cumsum'] = dfd.step.cumsum()\n",
    "queue = sc.Stairs(use_dates=True).layer(df.enter, df.leave)\n",
    "queue.plot(ax[1])\n",
    "\n",
    "dfd.ts = dfd.ts.apply(pd.Timestamp)\n",
    "dfdg = dfd.sort_values('ts').groupby('ts')['cumsum'].max()\n",
    "dfdg.plot(ax=ax[2],drawstyle=\"steps\")\n",
    "print(len(p))\n"
   ]
  },
  {
   "cell_type": "code",
   "execution_count": 6,
   "metadata": {},
   "outputs": [
    {
     "name": "stdout",
     "output_type": "stream",
     "text": [
      "2.375\n",
      "2.375\n"
     ]
    }
   ],
   "source": [
    "#[2, 3, 1, 2, 1, 2]\n",
    "#[3.75, 5.6, 6, 7.2, 9, 12]\n",
    "\n",
    "s1 = sc.Stairs()\n",
    "s1.layer(4)\n",
    "s1.layer(4)\n",
    "s1.layer(5,6)\n",
    "s1.layer(7)\n",
    "s1.layer(12)\n",
    "s1.layer(9,value=-1)\n",
    "\n",
    "ss3 = Steps().add([Step(4-0.000001,weight=0),Step(4),Step(4),Step(5,6),Step(7),Step(12),Step(9,weight=-1)])\n",
    "\n",
    "#s = Step(4,weight=2)\n",
    "#tbase = Basis(Basis.arctan,1)\n",
    "#ss3.rebase(tbase)\n",
    "#print(s.integrate(10,0))\n",
    "print(ss3.mean())\n",
    "#print(list(ss3._cummulative.keys()))\n",
    "\n",
    "print(s1.mean())"
   ]
  },
  {
   "cell_type": "code",
   "execution_count": null,
   "metadata": {},
   "outputs": [],
   "source": [
    "s2 = sc.Stairs().layer(2,4,2)\n",
    "s3 = sc.Stairs().layer(3,5,2)\n",
    "(s2/2).plot()"
   ]
  },
  {
   "cell_type": "code",
   "execution_count": null,
   "metadata": {},
   "outputs": [],
   "source": [
    "# widths = np.subtract(cumulative.keys()[2:], cumulative.keys()[1:-1])\n",
    "# heights = cumulative.values()[1:-1]\n",
    "# area = np.multiply(widths, heights).sum()\n",
    "\n",
    "# dd = vsteps._steps\n",
    "# dcs = vsteps._cumsum\n",
    "# ddk = [d.start_ts for d in dd]\n",
    "# #ddv = [d. for d in dd]\n",
    "\n",
    "# delta = np.subtract(ddk[2:],ddk[1:-1])\n",
    "\n",
    "# #print(delta)\n",
    "# #print(dcs)\n",
    "# np.dot(dcs[1:-1],delta)/3600\n",
    "\n",
    "vsteps.percentile(35)"
   ]
  },
  {
   "cell_type": "code",
   "execution_count": null,
   "metadata": {},
   "outputs": [],
   "source": [
    "queue = sc.Stairs(use_dates=True).layer(df.enter, df.leave)\n",
    "queue.percentile(35)"
   ]
  },
  {
   "cell_type": "code",
   "execution_count": 9,
   "metadata": {},
   "outputs": [
    {
     "name": "stderr",
     "output_type": "stream",
     "text": [
      "c:\\python38\\lib\\site-packages\\ipykernel\\ipkernel.py:287: DeprecationWarning: `should_run_async` will not call `transform_cell` automatically in the future. Please pass the result to `transformed_cell` argument and any exception that happen during thetransform in `preprocessing_exc_tuple` in IPython 7.17 and above.\n",
      "  and should_run_async(code)\n"
     ]
    },
    {
     "data": {
      "text/plain": [
       "<matplotlib.axes._subplots.AxesSubplot at 0x23f984e9d90>"
      ]
     },
     "execution_count": 9,
     "metadata": {},
     "output_type": "execute_result"
    },
    {
     "data": {
      "image/png": "[encoded data removed]",
      "text/plain": [
       "<Figure size 432x288 with 1 Axes>"
      ]
     },
     "metadata": {
      "needs_background": "light"
     },
     "output_type": "display_data"
    },
    {
     "data": {
      "image/png": "[encoded data removed]",
      "text/plain": [
       "<Figure size 432x288 with 1 Axes>"
      ]
     },
     "metadata": {
      "needs_background": "light"
     },
     "output_type": "display_data"
    }
   ],
   "source": [
    "# dic  =ss3.to_dict()\n",
    "# data = {'x': dic.keys(),'y': dic.values()}\n",
    "# df = pd.DataFrame.from_dict(data)\n",
    "# df.set_index('x',inplace=True)\n",
    "# ax = df.plot(drawstyle=\"steps-post\",legend=False)\n",
    "# p = np.arange(4,12,0.01)\n",
    "# ax.step(p,ss3.smooth_step_function(p,0.0005))\n",
    "\n",
    "ss3.plot()\n",
    "\n",
    "s1.plot()"
   ]
  },
  {
   "cell_type": "code",
   "execution_count": null,
   "metadata": {},
   "outputs": [],
   "source": []
  }
 ],
 "metadata": {
  "kernelspec": {
   "display_name": "Python 3",
   "language": "python",
   "name": "python3"
  },
  "language_info": {
   "codemirror_mode": {
    "name": "ipython",
    "version": 3
   },
   "file_extension": ".py",
   "mimetype": "text/x-python",
   "name": "python",
   "nbconvert_exporter": "python",
   "pygments_lexer": "ipython3",
   "version": "3.8.1"
  }
 },
 "nbformat": 4,
 "nbformat_minor": 4
}