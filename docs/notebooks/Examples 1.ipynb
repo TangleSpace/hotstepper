{
 "cells": [
  {
   "cell_type": "code",
   "execution_count": null,
   "metadata": {},
   "outputs": [],
   "source": [
    "import staircase as sc\n",
    "from imports import *\n",
    "import datetime\n",
    "import operator\n",
    "import warnings\n",
    "from hotstepper.utilities.helpers import *\n",
    "warnings.filterwarnings(\"ignore\")\n"
   ]
  },
  {
   "cell_type": "code",
   "execution_count": null,
   "metadata": {},
   "outputs": [],
   "source": [
    "s1 = Step(start=10,end=15,weight=-2)\n",
    "s2 = Step(start=12,weight=-1)\n",
    "s3 = Step(end=13,weight=2.5)\n",
    "s3n = Step(end=13,weight=-2.5)\n",
    "s4 = Step(start=14,end=16.5)\n",
    "s5 = Step(start=15,weight=2)\n",
    "s6 = Step(start=16,weight=2)\n",
    "s6n = Step(start=16,weight=-2)\n",
    "s7 = Step(start=13.5,end=14.5,weight=2)\n"
   ]
  },
  {
   "cell_type": "code",
   "execution_count": null,
   "metadata": {},
   "outputs": [],
   "source": [
    "ax = (s3).plot()\n",
    "s4.plot(ax=ax)\n",
    "(s3*s4).plot(ax=ax,color='g')"
   ]
  },
  {
   "cell_type": "code",
   "execution_count": null,
   "metadata": {},
   "outputs": [],
   "source": [
    "    s1 = Step(start=10,end=15,weight=-2)\n",
    "    s2 = Step(start=12,weight=-1)\n",
    "    s3 = Step(end=13,weight=2.5)\n",
    "    s3n = Step(end=13,weight=-2.5)\n",
    "    s4 = Step(start=14,end=16.5)\n",
    "    s5 = Step(start=15,weight=2)\n",
    "    s6 = Step(start=16,weight=2)\n",
    "    s6n = Step(start=16,weight=-2)\n",
    "    s7 = Step(start=13.5,end=14.5,weight=2)\n",
    "\n",
    "    sd1 = Step(start=datetime(2020,1,14,10,15),end=datetime(2020,1,16,12,1),weight=-2,use_datetime=True)\n",
    "    sd2 = Step(start=datetime(2020,1,10),weight=-1,use_datetime=True)\n",
    "    sd3 = Step(end=datetime(2020,1,10),weight=2.5,use_datetime=True)\n",
    "    sd3n = Step(end=datetime(2020,1,10),weight=-2.5,use_datetime=True)\n",
    "    sd4 = Step(start=datetime(2020,1,14),end=datetime(2020,1,16,12,1),use_datetime=True)\n",
    "    sd5 = Step(start=datetime(2020,1,10),weight=2,use_datetime=True)\n",
    "    sd6 = Step(start=datetime(2020,1,10),weight=2,use_datetime=True)\n",
    "    sd6n = Step(start=datetime(2020,1,10),weight=-2,use_datetime=True)\n",
    "    sd7 = Step(start=datetime(2020,1,14),end=datetime(2020,1,16,12,1),weight=2,use_datetime=True)\n",
    "\n",
    "    #compare direct and shortcut methods\n",
    "    assert (s1**2).compare(s1*s1)\n",
    "    assert (s3**2).compare(s3*s3)\n",
    "    assert (s3n**2).compare(s3n*s3n)\n",
    "    assert (s5**2).compare(s5*s5)\n",
    "    assert (s7**2).compare(s7*s7)\n",
    "    assert (s6**2).compare(s6*s6)\n",
    "    assert (s6n**2).compare(s6n*s6n)\n",
    "\n",
    "    assert (s1**3).compare(s1*s1*s1)\n",
    "    assert (s3n**3).compare(s3n*s3n*s3n)\n",
    "    assert (s3**3).compare(s3*s3*s3)\n",
    "    assert (s5**3).compare(s5*s5*s5)\n",
    "    assert (s7**3).compare(s7*s7*s7)\n",
    "    assert (s6**3).compare(s6*s6*s6)\n",
    "    assert (s6n**3).compare(s6n*s6n*s6n)\n",
    "\n",
    "    #date version of tests\n",
    "    assert (sd1**2).compare(sd1*sd1)\n",
    "    assert (sd3**2).compare(sd3*sd3)\n",
    "    assert (sd3n**2).compare(sd3n*sd3n)\n",
    "    assert (sd5**2).compare(sd5*sd5)\n",
    "    assert (sd7**2).compare(sd7*sd7)\n",
    "    assert (sd6**2).compare(sd6*sd6)\n",
    "    assert (sd6n**2).compare(sd6n*sd6n)\n",
    "\n",
    "    assert (sd1**3).compare(sd1*sd1*sd1)\n",
    "    assert (sd3n**3).compare(sd3n*sd3n*sd3n)\n",
    "    assert (sd3**3).compare(sd3*sd3*sd3)\n",
    "    assert (sd5**3).compare(sd5*sd5*sd5)\n",
    "    assert (sd7**3).compare(sd7*sd7*sd7)\n",
    "    assert (sd6**3).compare(sd6*sd6*sd6)\n",
    "    assert (sd6n**3).compare(sd6n*sd6n*sd6n)"
   ]
  },
  {
   "cell_type": "code",
   "execution_count": null,
   "metadata": {},
   "outputs": [],
   "source": [
    "s3.plot()"
   ]
  },
  {
   "cell_type": "code",
   "execution_count": null,
   "metadata": {},
   "outputs": [],
   "source": [
    "df = pd.read_csv(r\"../data/vessel_queue.csv\", parse_dates=['enter', 'leave'], dayfirst=True)\n",
    "vsteps = Steps(True).add_direct(df.enter,df.leave)\n",
    "queue = sc.Stairs(use_dates=True).layer(df.enter, df.leave)\n",
    "df.shape\n"
   ]
  },
  {
   "cell_type": "code",
   "execution_count": null,
   "metadata": {},
   "outputs": [],
   "source": [
    "p = np.arange(pd.Timestamp(2020,1,1), pd.Timestamp(2020,12,30), pd.Timedelta(hours=1)).astype(pd.Timestamp)\n",
    "fig,ax = plt.subplots(nrows=5,figsize=(20,16))\n",
    "\n",
    "#vsteps.rebase(tbase)\n",
    "vs_clip4 = vsteps.clip(ubound= pd.Timestamp(2020,1,3))\n",
    "vs_clip = vsteps.clip(lbound= pd.Timestamp(2020,12,11))\n",
    "\n",
    "vsteps_clip_filter = vsteps.clip(ubound=pd.Timestamp(2020,1,20))\n",
    "\n",
    "vsteps_clip_filter.plot(ax=ax[0])\n",
    "#ax[0].step(p,vsteps(p),color='indigo')\n",
    "\n",
    "#vsteps_clip_filter.smooth_plot(ax=ax[0],color='blue',linewidth=4,ts_grain=pd.Timedelta(hours=1))\n",
    "vsteps_clip_filter.smooth_plot(ax=ax[0],color='blue',linewidth=4,ts_grain=pd.Timedelta(hours=1))\n",
    "#((vsteps.clip(ubound=pd.Timestamp(2020,1,20)))).smooth_plot(ax=ax[0],color='blue',linewidth=4,ts_grain=pd.Timedelta(hours=1))\n",
    "\n",
    "#queue.plot(ax[1])\n",
    "vc = vsteps.clip(lbound=pd.Timestamp(2020,6,5),ubound=pd.Timestamp(2020,6,13))\n",
    "vc.plot(ax=ax[1])\n",
    "vc.normalise().plot(ax=ax[1],color='g')\n",
    "\n",
    "#vc._operate_norm_new(0,operator.ne).plot(ax=ax[1],color='r')\n",
    "\n",
    "\n",
    "vs_clip4.plot(ax=ax[2])\n",
    "\n",
    "#vsteps.histogram_plot(ax=ax[3],kind='bar')\n",
    "#vsteps.ecdf_plot(ax=ax[4],kind='bar',fill=False)\n",
    "#(vs_clip4 << pd.Timedelta(hours=12)).smooth_plot(ax=ax[2],color='g')\n",
    "#vs_clip.smooth_plot(ax=ax[2],color='g')\n",
    "# print(queue.min(),queue.max(),queue.median(),queue.mean())\n",
    "# print(vsteps.min(),vsteps.max(),vsteps.median(),vsteps.mean())\n",
    "\n",
    "# print(queue.var(),queue.std(),queue.mode(),queue.integrate())\n",
    "# print(vsteps.var(),vsteps.std(),vsteps.mode(),vsteps.integrate())"
   ]
  },
  {
   "cell_type": "code",
   "execution_count": null,
   "metadata": {},
   "outputs": [],
   "source": [
    "#print(vsteps.integrate(),vsteps.mean())\n",
    "(vsteps>9).plot()"
   ]
  },
  {
   "cell_type": "code",
   "execution_count": null,
   "metadata": {},
   "outputs": [],
   "source": []
  },
  {
   "cell_type": "code",
   "execution_count": null,
   "metadata": {},
   "outputs": [],
   "source": [
    "%%timeit -r 3 -n 3\n",
    "x = vsteps.step(p)"
   ]
  },
  {
   "cell_type": "code",
   "execution_count": null,
   "metadata": {},
   "outputs": [],
   "source": []
  },
  {
   "cell_type": "code",
   "execution_count": null,
   "metadata": {},
   "outputs": [],
   "source": [
    "\n",
    "#mbase = np.frompyfunc(mybase2,1,1)\n",
    "#tbase = Basis(Basis.sigmoid,5)\n",
    "\n",
    "\n",
    "x = Step(3.75)\n",
    "y = Step(5.6,6)\n",
    "y2 = Step(8.2,8.8)\n",
    "y3 = Step(9.2,9.8)\n",
    "\n",
    "#y3.rebase()\n",
    "z = Step(7.2)\n",
    "q = Step(12)\n",
    "\n",
    "p = Step(9,weight=-1)\n",
    "p1 = Step(9.5,weight=-1)\n",
    "\n",
    "ss1 = Steps()\n",
    "ss1 = ss1.add([z,x,y])\n",
    "\n",
    "ss2 = Steps()\n",
    "ss2 = ss2.add([q,x,p])\n",
    "\n",
    "s1 = sc.Stairs()\n",
    "s1.layer(4)\n",
    "s1.layer(5,6)\n",
    "s1.layer(4)\n",
    "s1.layer(7)\n",
    "s1.layer(12)\n",
    "s1.layer(9,value=-1)\n",
    "\n",
    "ss3 = Steps().add([Step(4),Step(4),Step(5,6),Step(7),Step(12),Step(9,weight=-1)])\n",
    "\n",
    "#ss3 = ss2 + ss1\n",
    "ss4 = ss3+y2 + 3\n",
    "\n",
    "ss5 = Steps().add([y2,y3])\n",
    "\n",
    "#print(list(ss3._cummulative.values()))\n",
    "#print(list(ss3._cummulative.keys()))\n",
    "yy = y3+y3-y2\n",
    "#ss4.rebase(tbase)\n",
    "    \n",
    "p = np.arange(2,13,0.01)\n",
    "\n",
    "fig,ax = plt.subplots(nrows=6,figsize=(18,14))\n",
    "\n",
    "ax[0].fill_between(p,ss1.step(p),step='post',alpha=0.3)\n",
    "ax[1].step(p,ss2.step(p))\n",
    "ax[2].step(p,ss3.step(p))\n",
    "s1.plot(ax[2],color='r')\n",
    "ax[3].step(p,ss4.step(p))\n",
    "ax[3].fill_between(p,(ss4 > 4).step(p),color='r',step='post',alpha=0.3)\n",
    "ax[5].step(p,ss5.step(p))\n",
    "#ax[5].step(p,yy.step(p))\n",
    "\n"
   ]
  },
  {
   "cell_type": "code",
   "execution_count": null,
   "metadata": {},
   "outputs": [],
   "source": []
  }
 ],
 "metadata": {
  "kernelspec": {
   "name": "python3",
   "display_name": "Python 3",
   "language": "python"
  },
  "language_info": {
   "codemirror_mode": {
    "name": "ipython",
    "version": 3
   },
   "file_extension": ".py",
   "mimetype": "text/x-python",
   "name": "python",
   "nbconvert_exporter": "python",
   "pygments_lexer": "ipython3",
   "version": "3.8.5-final"
  }
 },
 "nbformat": 4,
 "nbformat_minor": 4
}