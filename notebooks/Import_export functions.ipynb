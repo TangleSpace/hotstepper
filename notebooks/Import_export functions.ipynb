{
 "cells": [
  {
   "cell_type": "code",
   "execution_count": null,
   "metadata": {},
   "outputs": [],
   "source": [
    "import matplotlib.pyplot as plt\n",
    "import numpy as np\n",
    "import pandas as pd\n",
    "from imports import *\n",
    "from datetime import datetime, timedelta\n",
    "import staircase as sc\n",
    "%matplotlib inline\n",
    "\n",
    "import warnings\n",
    "warnings.filterwarnings(\"ignore\")\n"
   ]
  },
  {
   "cell_type": "code",
   "execution_count": null,
   "metadata": {},
   "outputs": [],
   "source": [
    "df = pd.read_csv(r\"..//data/vessel_queue.csv\", parse_dates=['enter', 'leave'], dayfirst=True)\n",
    "dfh = pd.read_csv(r\"../data/hotel_stays.csv\", parse_dates=['check_in', 'check_out'], dayfirst=True)\n",
    "#df.sort_values(by=['leave'],inplace=True)\n",
    "#queue = sc.Stairs(use_dates=True).layer(df.enter, df.leave)\n",
    "dfh.head()"
   ]
  },
  {
   "cell_type": "code",
   "execution_count": null,
   "metadata": {
    "tags": []
   },
   "outputs": [],
   "source": [
    "#%%timeit -r 3 -n 3\n",
    "vsteps = Steps.read_dataframe(df,'enter','leave')"
   ]
  },
  {
   "cell_type": "code",
   "execution_count": null,
   "metadata": {},
   "outputs": [],
   "source": [
    "%%timeit -r 3 -n 3\n",
    "hotel_stays = Steps.read_dataframe(dfh,'check_in', 'check_out')"
   ]
  },
  {
   "cell_type": "code",
   "execution_count": null,
   "metadata": {},
   "outputs": [],
   "source": [
    "%%timeit -r 3 -n 3\n",
    "queue = sc.Stairs(use_dates=True).layer(dfh.check_in, dfh.check_out)"
   ]
  },
  {
   "cell_type": "code",
   "execution_count": null,
   "metadata": {},
   "outputs": [],
   "source": [
    "from numpy import datetime64\n",
    "\n",
    "def monkeypatch_method(cls):\n",
    "    def decorator(func):\n",
    "        setattr(cls,func.__name__,func)\n",
    "        return func\n",
    "    return decorator\n",
    "\n",
    "#@monkeypatch_method(datetime64)\n",
    "#def timestamp(self):\n",
    "#    return (self - np.datetime64('1970-01-01T00:00:00Z')) / np.timedelta64(1, 's')\n",
    "\n",
    "\n",
    "def NaT_None(data):\n",
    "    if pd.isna(data):\n",
    "        return None\n",
    "    else:\n",
    "        return data\n",
    "\n",
    "def create_step(d):\n",
    "    return Step(use_datetime=True,data=d)\n",
    "\n",
    "\n",
    "# st = Steps(True)\n",
    "df2 = df.iloc[0:20]\n",
    "# df2np = df2[['enter','leave']].to_numpy()\n",
    "# df2npn = np.where(df2np is datetime64('NaT'),None,df2np)\n",
    "\n",
    "# sss = np.apply_along_axis(create_step, 1, df2npn)\n",
    "# sss\n",
    "#dfc = df2[['enter','leave']].replace(np.datetime64('NaT'),None)\n",
    "ss = df2.apply(lambda x: Step(use_datetime=True,data=(x['enter'],x['leave'])),axis=1)\n",
    "#s = Step(data=np.array([None,100]))\n",
    "print(ss)"
   ]
  },
  {
   "cell_type": "code",
   "execution_count": null,
   "metadata": {},
   "outputs": [],
   "source": [
    "%%timeit -r 3 -n 3\n",
    "ss = dfh.apply(lambda x: Step(use_datetime=True,data=(x['check_in'],x['check_out'])),axis=1)\n",
    "#st = Steps(use_datetime=True).add(ss)"
   ]
  },
  {
   "cell_type": "code",
   "execution_count": null,
   "metadata": {},
   "outputs": [],
   "source": [
    "%%timeit -r 3 -n 3\n",
    "ss = dfh.apply(lambda x: Step(use_datetime=True,data=(NaT_None(x['check_in']),NaT_None(x['check_out']))),axis=1)\n",
    "#st = Steps(use_datetime=True).add(ss)"
   ]
  },
  {
   "cell_type": "code",
   "execution_count": null,
   "metadata": {},
   "outputs": [],
   "source": [
    "vsteps._step_np[0]"
   ]
  },
  {
   "cell_type": "code",
   "execution_count": null,
   "metadata": {},
   "outputs": [],
   "source": [
    "step_dict = vsteps.to_dict()\n",
    "print(step_dict.keys()[0:3],step_dict.values()[0:3])"
   ]
  },
  {
   "cell_type": "code",
   "execution_count": null,
   "metadata": {},
   "outputs": [],
   "source": [
    "asteps = Steps.read_array(df.head(150).enter, df.head(150).leave,use_datetime=True)\n",
    "dsteps = Steps.read_dict(step_dict)\n",
    "step_dict.values()[0]"
   ]
  },
  {
   "cell_type": "code",
   "execution_count": null,
   "metadata": {},
   "outputs": [],
   "source": [
    "df_vsteps = vsteps.to_dataframe() #\n",
    "df_vsteps.head()"
   ]
  },
  {
   "cell_type": "code",
   "execution_count": null,
   "metadata": {},
   "outputs": [],
   "source": [
    "vsteps_df = Steps.read_dataframe(df_vsteps,'start','end')"
   ]
  },
  {
   "cell_type": "code",
   "execution_count": null,
   "metadata": {},
   "outputs": [],
   "source": [
    "#ax = vsteps_df.plot(size=(32,6))\n",
    "ax = vsteps.plot(color='g')\n",
    "asteps.plot(ax=ax,color='blue')\n",
    "dsteps.plot(ax=ax,color='r')\n",
    "#dsteps.normalise().plot(ax=ax,color='orange')"
   ]
  },
  {
   "cell_type": "code",
   "execution_count": null,
   "metadata": {},
   "outputs": [],
   "source": [
    "d = pd.Timestamp(2020,1,20)\n",
    "ax = vsteps_df.clip(lbound=d).plot(size=(32,6))\n",
    "vsteps.clip(lbound=d).plot(ax=ax,color='g')\n",
    "#asteps.clip(lbound=d).plot(ax=ax,color='blue')\n",
    "dsteps.clip(lbound=d).plot(ax=ax,color='red')\n"
   ]
  },
  {
   "cell_type": "code",
   "execution_count": null,
   "metadata": {},
   "outputs": [],
   "source": [
    "dsteps(pd.Timestamp(2020,1,1))"
   ]
  },
  {
   "cell_type": "code",
   "execution_count": null,
   "metadata": {},
   "outputs": [],
   "source": [
    "dfdf = vsteps_df.clip(lbound=pd.Timestamp(2020,1,10),ubound=pd.Timestamp(2020,1,20)) #.to_dataframe(mode='aggregate')\n",
    "vstep_clipped = vsteps.clip(lbound=pd.Timestamp(2020,1,10),ubound=pd.Timestamp(2020,1,20))\n",
    "#vstep_clipped.steps()"
   ]
  },
  {
   "cell_type": "code",
   "execution_count": null,
   "metadata": {},
   "outputs": [],
   "source": []
  }
 ],
 "metadata": {
  "kernelspec": {
   "display_name": "Python 3",
   "language": "python",
   "name": "python3"
  },
  "language_info": {
   "codemirror_mode": {
    "name": "ipython",
    "version": 3
   },
   "file_extension": ".py",
   "mimetype": "text/x-python",
   "name": "python",
   "nbconvert_exporter": "python",
   "pygments_lexer": "ipython3",
   "version": "3.8.5-final"
  }
 },
 "nbformat": 4,
 "nbformat_minor": 4
}