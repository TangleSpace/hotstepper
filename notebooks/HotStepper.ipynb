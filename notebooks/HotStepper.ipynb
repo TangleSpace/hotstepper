{
 "cells": [
  {
   "source": [
    "# HotStepper Quick Start"
   ],
   "cell_type": "markdown",
   "metadata": {}
  },
  {
   "cell_type": "code",
   "execution_count": 1,
   "metadata": {},
   "outputs": [],
   "source": [
    "import matplotlib.pyplot as plt\n",
    "import numpy as np\n",
    "import pandas as pd\n",
    "from imports import *\n",
    "from datetime import datetime, timedelta\n",
    "\n",
    "import warnings\n",
    "warnings.filterwarnings(\"ignore\")\n"
   ]
  },
  {
   "cell_type": "code",
   "execution_count": 2,
   "metadata": {},
   "outputs": [
    {
     "output_type": "error",
     "ename": "FileNotFoundError",
     "evalue": "[Errno 2] No such file or directory: '../data/vessel_queue.csv'",
     "traceback": [
      "\u001b[1;31m---------------------------------------------------------------------------\u001b[0m",
      "\u001b[1;31mFileNotFoundError\u001b[0m                         Traceback (most recent call last)",
      "\u001b[1;32m<ipython-input-2-84e008f74c3d>\u001b[0m in \u001b[0;36m<module>\u001b[1;34m\u001b[0m\n\u001b[1;32m----> 1\u001b[1;33m \u001b[0mdf\u001b[0m \u001b[1;33m=\u001b[0m \u001b[0mpd\u001b[0m\u001b[1;33m.\u001b[0m\u001b[0mread_csv\u001b[0m\u001b[1;33m(\u001b[0m\u001b[1;34mr\"../data/vessel_queue.csv\"\u001b[0m\u001b[1;33m,\u001b[0m \u001b[0mparse_dates\u001b[0m\u001b[1;33m=\u001b[0m\u001b[1;33m[\u001b[0m\u001b[1;34m'enter'\u001b[0m\u001b[1;33m,\u001b[0m \u001b[1;34m'leave'\u001b[0m\u001b[1;33m]\u001b[0m\u001b[1;33m,\u001b[0m \u001b[0mdayfirst\u001b[0m\u001b[1;33m=\u001b[0m\u001b[1;32mTrue\u001b[0m\u001b[1;33m)\u001b[0m\u001b[1;33m\u001b[0m\u001b[1;33m\u001b[0m\u001b[0m\n\u001b[0m\u001b[0;32m      2\u001b[0m \u001b[1;33m\u001b[0m\u001b[0m\n\u001b[0;32m      3\u001b[0m \u001b[1;31m#vsteps = Steps.read_dataframe(df.head(175),'enter','leave')\u001b[0m\u001b[1;33m\u001b[0m\u001b[1;33m\u001b[0m\u001b[1;33m\u001b[0m\u001b[0m\n\u001b[0;32m      4\u001b[0m \u001b[0mvsteps\u001b[0m \u001b[1;33m=\u001b[0m \u001b[0mSteps\u001b[0m\u001b[1;33m(\u001b[0m\u001b[0muse_datetime\u001b[0m\u001b[1;33m=\u001b[0m\u001b[1;32mTrue\u001b[0m\u001b[1;33m)\u001b[0m\u001b[1;33m.\u001b[0m\u001b[0madd_direct\u001b[0m\u001b[1;33m(\u001b[0m\u001b[0mdf\u001b[0m\u001b[1;33m.\u001b[0m\u001b[0menter\u001b[0m\u001b[1;33m,\u001b[0m\u001b[0mdf\u001b[0m\u001b[1;33m.\u001b[0m\u001b[0mleave\u001b[0m\u001b[1;33m)\u001b[0m\u001b[1;33m\u001b[0m\u001b[1;33m\u001b[0m\u001b[0m\n\u001b[0;32m      5\u001b[0m \u001b[0mqueue\u001b[0m \u001b[1;33m=\u001b[0m \u001b[0msc\u001b[0m\u001b[1;33m.\u001b[0m\u001b[0mStairs\u001b[0m\u001b[1;33m(\u001b[0m\u001b[0muse_dates\u001b[0m\u001b[1;33m=\u001b[0m\u001b[1;32mTrue\u001b[0m\u001b[1;33m)\u001b[0m\u001b[1;33m.\u001b[0m\u001b[0mlayer\u001b[0m\u001b[1;33m(\u001b[0m\u001b[0mdf\u001b[0m\u001b[1;33m.\u001b[0m\u001b[0menter\u001b[0m\u001b[1;33m,\u001b[0m \u001b[0mdf\u001b[0m\u001b[1;33m.\u001b[0m\u001b[0mleave\u001b[0m\u001b[1;33m)\u001b[0m\u001b[1;33m\u001b[0m\u001b[1;33m\u001b[0m\u001b[0m\n",
      "\u001b[1;32mC:\\Anaconda3\\lib\\site-packages\\pandas\\io\\parsers.py\u001b[0m in \u001b[0;36mread_csv\u001b[1;34m(filepath_or_buffer, sep, delimiter, header, names, index_col, usecols, squeeze, prefix, mangle_dupe_cols, dtype, engine, converters, true_values, false_values, skipinitialspace, skiprows, skipfooter, nrows, na_values, keep_default_na, na_filter, verbose, skip_blank_lines, parse_dates, infer_datetime_format, keep_date_col, date_parser, dayfirst, cache_dates, iterator, chunksize, compression, thousands, decimal, lineterminator, quotechar, quoting, doublequote, escapechar, comment, encoding, dialect, error_bad_lines, warn_bad_lines, delim_whitespace, low_memory, memory_map, float_precision, storage_options)\u001b[0m\n\u001b[0;32m    603\u001b[0m     \u001b[0mkwds\u001b[0m\u001b[1;33m.\u001b[0m\u001b[0mupdate\u001b[0m\u001b[1;33m(\u001b[0m\u001b[0mkwds_defaults\u001b[0m\u001b[1;33m)\u001b[0m\u001b[1;33m\u001b[0m\u001b[1;33m\u001b[0m\u001b[0m\n\u001b[0;32m    604\u001b[0m \u001b[1;33m\u001b[0m\u001b[0m\n\u001b[1;32m--> 605\u001b[1;33m     \u001b[1;32mreturn\u001b[0m \u001b[0m_read\u001b[0m\u001b[1;33m(\u001b[0m\u001b[0mfilepath_or_buffer\u001b[0m\u001b[1;33m,\u001b[0m \u001b[0mkwds\u001b[0m\u001b[1;33m)\u001b[0m\u001b[1;33m\u001b[0m\u001b[1;33m\u001b[0m\u001b[0m\n\u001b[0m\u001b[0;32m    606\u001b[0m \u001b[1;33m\u001b[0m\u001b[0m\n\u001b[0;32m    607\u001b[0m \u001b[1;33m\u001b[0m\u001b[0m\n",
      "\u001b[1;32mC:\\Anaconda3\\lib\\site-packages\\pandas\\io\\parsers.py\u001b[0m in \u001b[0;36m_read\u001b[1;34m(filepath_or_buffer, kwds)\u001b[0m\n\u001b[0;32m    455\u001b[0m \u001b[1;33m\u001b[0m\u001b[0m\n\u001b[0;32m    456\u001b[0m     \u001b[1;31m# Create the parser.\u001b[0m\u001b[1;33m\u001b[0m\u001b[1;33m\u001b[0m\u001b[1;33m\u001b[0m\u001b[0m\n\u001b[1;32m--> 457\u001b[1;33m     \u001b[0mparser\u001b[0m \u001b[1;33m=\u001b[0m \u001b[0mTextFileReader\u001b[0m\u001b[1;33m(\u001b[0m\u001b[0mfilepath_or_buffer\u001b[0m\u001b[1;33m,\u001b[0m \u001b[1;33m**\u001b[0m\u001b[0mkwds\u001b[0m\u001b[1;33m)\u001b[0m\u001b[1;33m\u001b[0m\u001b[1;33m\u001b[0m\u001b[0m\n\u001b[0m\u001b[0;32m    458\u001b[0m \u001b[1;33m\u001b[0m\u001b[0m\n\u001b[0;32m    459\u001b[0m     \u001b[1;32mif\u001b[0m \u001b[0mchunksize\u001b[0m \u001b[1;32mor\u001b[0m \u001b[0miterator\u001b[0m\u001b[1;33m:\u001b[0m\u001b[1;33m\u001b[0m\u001b[1;33m\u001b[0m\u001b[0m\n",
      "\u001b[1;32mC:\\Anaconda3\\lib\\site-packages\\pandas\\io\\parsers.py\u001b[0m in \u001b[0;36m__init__\u001b[1;34m(self, f, engine, **kwds)\u001b[0m\n\u001b[0;32m    812\u001b[0m             \u001b[0mself\u001b[0m\u001b[1;33m.\u001b[0m\u001b[0moptions\u001b[0m\u001b[1;33m[\u001b[0m\u001b[1;34m\"has_index_names\"\u001b[0m\u001b[1;33m]\u001b[0m \u001b[1;33m=\u001b[0m \u001b[0mkwds\u001b[0m\u001b[1;33m[\u001b[0m\u001b[1;34m\"has_index_names\"\u001b[0m\u001b[1;33m]\u001b[0m\u001b[1;33m\u001b[0m\u001b[1;33m\u001b[0m\u001b[0m\n\u001b[0;32m    813\u001b[0m \u001b[1;33m\u001b[0m\u001b[0m\n\u001b[1;32m--> 814\u001b[1;33m         \u001b[0mself\u001b[0m\u001b[1;33m.\u001b[0m\u001b[0m_engine\u001b[0m \u001b[1;33m=\u001b[0m \u001b[0mself\u001b[0m\u001b[1;33m.\u001b[0m\u001b[0m_make_engine\u001b[0m\u001b[1;33m(\u001b[0m\u001b[0mself\u001b[0m\u001b[1;33m.\u001b[0m\u001b[0mengine\u001b[0m\u001b[1;33m)\u001b[0m\u001b[1;33m\u001b[0m\u001b[1;33m\u001b[0m\u001b[0m\n\u001b[0m\u001b[0;32m    815\u001b[0m \u001b[1;33m\u001b[0m\u001b[0m\n\u001b[0;32m    816\u001b[0m     \u001b[1;32mdef\u001b[0m \u001b[0mclose\u001b[0m\u001b[1;33m(\u001b[0m\u001b[0mself\u001b[0m\u001b[1;33m)\u001b[0m\u001b[1;33m:\u001b[0m\u001b[1;33m\u001b[0m\u001b[1;33m\u001b[0m\u001b[0m\n",
      "\u001b[1;32mC:\\Anaconda3\\lib\\site-packages\\pandas\\io\\parsers.py\u001b[0m in \u001b[0;36m_make_engine\u001b[1;34m(self, engine)\u001b[0m\n\u001b[0;32m   1043\u001b[0m             )\n\u001b[0;32m   1044\u001b[0m         \u001b[1;31m# error: Too many arguments for \"ParserBase\"\u001b[0m\u001b[1;33m\u001b[0m\u001b[1;33m\u001b[0m\u001b[1;33m\u001b[0m\u001b[0m\n\u001b[1;32m-> 1045\u001b[1;33m         \u001b[1;32mreturn\u001b[0m \u001b[0mmapping\u001b[0m\u001b[1;33m[\u001b[0m\u001b[0mengine\u001b[0m\u001b[1;33m]\u001b[0m\u001b[1;33m(\u001b[0m\u001b[0mself\u001b[0m\u001b[1;33m.\u001b[0m\u001b[0mf\u001b[0m\u001b[1;33m,\u001b[0m \u001b[1;33m**\u001b[0m\u001b[0mself\u001b[0m\u001b[1;33m.\u001b[0m\u001b[0moptions\u001b[0m\u001b[1;33m)\u001b[0m  \u001b[1;31m# type: ignore[call-arg]\u001b[0m\u001b[1;33m\u001b[0m\u001b[1;33m\u001b[0m\u001b[0m\n\u001b[0m\u001b[0;32m   1046\u001b[0m \u001b[1;33m\u001b[0m\u001b[0m\n\u001b[0;32m   1047\u001b[0m     \u001b[1;32mdef\u001b[0m \u001b[0m_failover_to_python\u001b[0m\u001b[1;33m(\u001b[0m\u001b[0mself\u001b[0m\u001b[1;33m)\u001b[0m\u001b[1;33m:\u001b[0m\u001b[1;33m\u001b[0m\u001b[1;33m\u001b[0m\u001b[0m\n",
      "\u001b[1;32mC:\\Anaconda3\\lib\\site-packages\\pandas\\io\\parsers.py\u001b[0m in \u001b[0;36m__init__\u001b[1;34m(self, src, **kwds)\u001b[0m\n\u001b[0;32m   1860\u001b[0m \u001b[1;33m\u001b[0m\u001b[0m\n\u001b[0;32m   1861\u001b[0m         \u001b[1;31m# open handles\u001b[0m\u001b[1;33m\u001b[0m\u001b[1;33m\u001b[0m\u001b[1;33m\u001b[0m\u001b[0m\n\u001b[1;32m-> 1862\u001b[1;33m         \u001b[0mself\u001b[0m\u001b[1;33m.\u001b[0m\u001b[0m_open_handles\u001b[0m\u001b[1;33m(\u001b[0m\u001b[0msrc\u001b[0m\u001b[1;33m,\u001b[0m \u001b[0mkwds\u001b[0m\u001b[1;33m)\u001b[0m\u001b[1;33m\u001b[0m\u001b[1;33m\u001b[0m\u001b[0m\n\u001b[0m\u001b[0;32m   1863\u001b[0m         \u001b[1;32massert\u001b[0m \u001b[0mself\u001b[0m\u001b[1;33m.\u001b[0m\u001b[0mhandles\u001b[0m \u001b[1;32mis\u001b[0m \u001b[1;32mnot\u001b[0m \u001b[1;32mNone\u001b[0m\u001b[1;33m\u001b[0m\u001b[1;33m\u001b[0m\u001b[0m\n\u001b[0;32m   1864\u001b[0m         \u001b[1;32mfor\u001b[0m \u001b[0mkey\u001b[0m \u001b[1;32min\u001b[0m \u001b[1;33m(\u001b[0m\u001b[1;34m\"storage_options\"\u001b[0m\u001b[1;33m,\u001b[0m \u001b[1;34m\"encoding\"\u001b[0m\u001b[1;33m,\u001b[0m \u001b[1;34m\"memory_map\"\u001b[0m\u001b[1;33m,\u001b[0m \u001b[1;34m\"compression\"\u001b[0m\u001b[1;33m)\u001b[0m\u001b[1;33m:\u001b[0m\u001b[1;33m\u001b[0m\u001b[1;33m\u001b[0m\u001b[0m\n",
      "\u001b[1;32mC:\\Anaconda3\\lib\\site-packages\\pandas\\io\\parsers.py\u001b[0m in \u001b[0;36m_open_handles\u001b[1;34m(self, src, kwds)\u001b[0m\n\u001b[0;32m   1355\u001b[0m         \u001b[0mLet\u001b[0m \u001b[0mthe\u001b[0m \u001b[0mreaders\u001b[0m \u001b[0mopen\u001b[0m \u001b[0mIOHanldes\u001b[0m \u001b[0mafter\u001b[0m \u001b[0mthey\u001b[0m \u001b[0mare\u001b[0m \u001b[0mdone\u001b[0m \u001b[1;32mwith\u001b[0m \u001b[0mtheir\u001b[0m \u001b[0mpotential\u001b[0m \u001b[0mraises\u001b[0m\u001b[1;33m.\u001b[0m\u001b[1;33m\u001b[0m\u001b[1;33m\u001b[0m\u001b[0m\n\u001b[0;32m   1356\u001b[0m         \"\"\"\n\u001b[1;32m-> 1357\u001b[1;33m         self.handles = get_handle(\n\u001b[0m\u001b[0;32m   1358\u001b[0m             \u001b[0msrc\u001b[0m\u001b[1;33m,\u001b[0m\u001b[1;33m\u001b[0m\u001b[1;33m\u001b[0m\u001b[0m\n\u001b[0;32m   1359\u001b[0m             \u001b[1;34m\"r\"\u001b[0m\u001b[1;33m,\u001b[0m\u001b[1;33m\u001b[0m\u001b[1;33m\u001b[0m\u001b[0m\n",
      "\u001b[1;32mC:\\Anaconda3\\lib\\site-packages\\pandas\\io\\common.py\u001b[0m in \u001b[0;36mget_handle\u001b[1;34m(path_or_buf, mode, encoding, compression, memory_map, is_text, errors, storage_options)\u001b[0m\n\u001b[0;32m    640\u001b[0m                 \u001b[0merrors\u001b[0m \u001b[1;33m=\u001b[0m \u001b[1;34m\"replace\"\u001b[0m\u001b[1;33m\u001b[0m\u001b[1;33m\u001b[0m\u001b[0m\n\u001b[0;32m    641\u001b[0m             \u001b[1;31m# Encoding\u001b[0m\u001b[1;33m\u001b[0m\u001b[1;33m\u001b[0m\u001b[1;33m\u001b[0m\u001b[0m\n\u001b[1;32m--> 642\u001b[1;33m             handle = open(\n\u001b[0m\u001b[0;32m    643\u001b[0m                 \u001b[0mhandle\u001b[0m\u001b[1;33m,\u001b[0m\u001b[1;33m\u001b[0m\u001b[1;33m\u001b[0m\u001b[0m\n\u001b[0;32m    644\u001b[0m                 \u001b[0mioargs\u001b[0m\u001b[1;33m.\u001b[0m\u001b[0mmode\u001b[0m\u001b[1;33m,\u001b[0m\u001b[1;33m\u001b[0m\u001b[1;33m\u001b[0m\u001b[0m\n",
      "\u001b[1;31mFileNotFoundError\u001b[0m: [Errno 2] No such file or directory: '../data/vessel_queue.csv'"
     ]
    }
   ],
   "source": [
    "df = pd.read_csv(r\"../data/vessel_queue.csv\", parse_dates=['enter', 'leave'], dayfirst=True)\n",
    "\n",
    "#vsteps = Steps.read_dataframe(df.head(175),'enter','leave')\n",
    "vsteps = Steps(use_datetime=True).add_direct(df.enter,df.leave)\n",
    "queue = sc.Stairs(use_dates=True).layer(df.enter, df.leave)\n"
   ]
  },
  {
   "cell_type": "code",
   "execution_count": null,
   "metadata": {},
   "outputs": [],
   "source": [
    "queue.clip(lower=pd.Timestamp(2020,10,10),upper=pd.Timestamp(2020,11,1)).integrate()\n",
    "# sata = vsteps._all_data\n",
    "# mask = np.where(sata[:,2]>9, True,False)\n",
    "# groups = [(group[0],group[-1]) for group in (list(group) for key, group in its.groupby(range(len(mask)), key=mask.__getitem__) if key)]\n",
    "#groups"
   ]
  },
  {
   "cell_type": "code",
   "execution_count": null,
   "metadata": {
    "tags": []
   },
   "outputs": [],
   "source": [
    "#tbase = Basis(Basis.tanh,52416)\n",
    "\n",
    "#p = np.arange(pd.Timestamp(2020,1,31), pd.Timestamp(2020,2,4), pd.Timedelta(minutes=1)).astype(pd.Timestamp)\n",
    "#px = [x.timestamp() for x in p]\n",
    "fig,ax = plt.subplots(nrows=5,figsize=(20,12))\n",
    "\n",
    "#vsteps.clip(lbound=pd.Timestamp(2020,2,1),ubound=pd.Timestamp(2020,2,3)).plot(ax=ax[0])\n",
    "v_ul_clip = vsteps.clip(lbound=pd.Timestamp(2020,2,1),ubound=pd.Timestamp(2020,2,10))\n",
    "#v_ul_clip._start = Utils.ts_to_dt(v_ul_clip._all_keys[1])\n",
    "#print(v_ul_clip._start)\n",
    "v_ul_clip.plot(ax=ax[1])\n",
    "#v_ul_clip.normalise().plot(ax=ax[1],color='r')\n",
    "(v_ul_clip>=8).plot(ax=ax[1],color='blue')\n",
    "\n",
    "((v_ul_clip>=8)/v_ul_clip).plot(ax=ax[1],color='red')\n",
    "(v_ul_clip>=8).normalise().plot(ax=ax[1],color='black')\n",
    "#v_ul_clip.smooth_plot(ax=ax[1],color='g')\n",
    "\n",
    "\n",
    "#first_step_full = (vsteps.steps())[0]\n",
    "#(v_ul_clip.steps())[0].plot(ax=ax[0],color='blue')\n",
    "#ax[0].step(p,first_step(p),color='blue')\n",
    "#ax[0].step(p,(v_ul_clip<<timedelta(minutes=660))(p),color='g')\n",
    "\n",
    "#queue.clip(lower=pd.Timestamp(2020,2,1),upper=pd.Timestamp(2020,3,1)).plot(ax[0])\n",
    "\n",
    "#queue.clip(upper=pd.Timestamp(2020,1,12)).plot(ax[1])\n",
    "# vclip2 = vsteps.clip(ubound=pd.Timestamp(2020,2,8))\n",
    "# vclip2.plot(ax=ax[1])\n",
    "# queue.clip(upper=pd.Timestamp(2020,2,8)).plot(ax=ax[1])\n",
    "\n",
    "# vclip2.normalise().plot(ax=ax[1],color='g')\n",
    "\n",
    "\n",
    "vsteps.clip(lbound=pd.Timestamp(2020,2,1),ubound=pd.Timestamp(2020,5,1)).plot(ax=ax[0],color='r')\n",
    "#vsteps.clip(lbound=pd.Timestamp(2020,2,1)).smooth_plot(ax=ax[0],color='g',linewidth=4)\n",
    "#queue.clip(upper=pd.Timestamp(2020,2,1)).plot(ax[0])\n",
    "\n",
    "#clip_step = Step(start=pd.Timestamp(2020,3,1),end=pd.Timestamp(2020,6,1))\n",
    "clip_step_end = Steps(end=pd.Timestamp(2020,1,10))\n",
    "steps_end = Steps(True).add_direct([None],[pd.Timestamp(2020,1,10)])\n",
    "clip_step_start = Steps(start=pd.Timestamp(2020,5,1))\n",
    "\n",
    "#queue.plot(ax=ax[2])\n",
    "#vsteps.plot(ax=ax[2])\n",
    "#((vsteps*clip_step_end)).plot(ax=ax[2],color='r')\n",
    "#(vsteps-(vsteps*clip_step_start)).plot(ax=ax[2],color='g')\n",
    "#(vsteps-(vsteps*clip_step_end)).plot(ax=ax[2],color='r')\n",
    "#res = apply_aggregate(vsteps,np.subtract,(vsteps*clip_step_end))\n",
    "#res.plot(ax=ax[2],color='r')\n",
    "(vsteps*clip_step_end).plot(ax=ax[2],color='black')\n",
    "(vsteps*steps_end).plot(ax=ax[2],color='r')\n",
    "vsteps.clip(ubound=pd.Timestamp(2020,1,10)).plot(ax=ax[2],color='g')\n",
    "\n",
    "\n",
    "#(vsteps*clip_step).plot(ax=ax[2],color='g')\n",
    "vsteps.plot(ax=ax[4])\n",
    "vsteps.smooth_plot(ax=ax[4],color='g',linewidth=3)\n",
    "#(vsteps).smooth_plot(ax=ax[3],color='r')\n",
    "#(vsteps>>pd.Timedelta(hours=11)).plot(method='function',ax=ax[3],color='g')\n",
    "#vstep_clean = vsteps.clip(ubound=pd.Timestamp(2020,2,12,1,42))\n",
    "vc = vsteps.clip(ubound=pd.Timestamp(2020,1,10))\n",
    "vc.plot(ax=ax[3])\n",
    "vc7 = vc>9\n",
    "vc7.plot(ax=ax[3],color='g')\n",
    "#vc7.normalise(3).plot(ax=ax[3],color='r')\n",
    "vc7.invert(3).plot(ax=ax[3],color='black')\n",
    "#(vc7<<pd.Timedelta(minutes=660)).invert(3).plot(ax=ax[3],color='blue')\n",
    "#vsteps._operate_value_new(10, operator.ge).plot(ax=ax[3],color='orange')\n",
    "\n",
    "# vsteps.clip(ubound=pd.Timestamp(2020,1,12)).plot(ax=ax[3])\n",
    "# ((vsteps.clip(ubound=pd.Timestamp(2020,1,12))>10)).plot(ax=ax[3],color='g')\n",
    "#+Step(weight=10,use_datetime=True)\n",
    "#print((v_ul_clip<<timedelta(minutes=660))(datetime(2020,2,1,6,0)))\n",
    "#ax[2].step(np.arange(len(vsteps[pd.Timestamp(2020,1,1):pd.Timestamp(2020,1,2):pd.Timedelta(minutes=10)])),vsteps[pd.Timestamp(2020,1,1):pd.Timestamp(2020,1,2):pd.Timedelta(minutes=10)])\n",
    "\n",
    "# print(queue.clip(lower=pd.Timestamp(2020,2,1),upper=pd.Timestamp(2020,3,1)).mean())\n",
    "# print((vsteps.clip(lbound=pd.Timestamp(2020,2,1),ubound=pd.Timestamp(2020,3,1))).mean())\n",
    "\n",
    "# print(queue.clip(upper=pd.Timestamp(2020,3,1)).mean())\n",
    "# print((vsteps.clip(ubound=pd.Timestamp(2020,3,1))).mean())\n",
    "\n",
    "# print(queue.clip(lower=pd.Timestamp(2020,2,1)).mean())\n",
    "# print(vsteps.clip(lbound=pd.Timestamp(2020,2,1)).mean())\n",
    "#Utils.prepare_datetime(k[2])\n"
   ]
  },
  {
   "cell_type": "code",
   "execution_count": null,
   "metadata": {},
   "outputs": [],
   "source": [
    "vsteps.summary();"
   ]
  },
  {
   "cell_type": "code",
   "execution_count": null,
   "metadata": {},
   "outputs": [],
   "source": [
    "fig, (ax,ax1) = plt.subplots(nrows=2,figsize=(24,6))\n",
    "#vc = (vsteps*clip_step_end)\n",
    "#vc.plot(ax=ax,color='black')\n",
    "cc = vsteps.clip(lbound=pd.Timestamp(2020,10,10),ubound=pd.Timestamp(2020,11,1))\n",
    "cc.plot(ax=ax,color='g')\n",
    "\n",
    "cl = vsteps.clamp(lbound=pd.Timestamp(2020,10,10),ubound=pd.Timestamp(2020,11,1))\n",
    "\n",
    "\n",
    "cl.plot(ax=ax1)\n",
    "cc.plot(ax=ax1,color='r')\n",
    "queue.clip(lower=pd.Timestamp(2020,10,10),upper=pd.Timestamp(2020,11,1)).plot(ax=ax1)\n",
    "#lines.get_ydata(orig=False)\n",
    "#plt.fill_between(ax.get_children()[0].get_xdata(), 0, ax.get_children()[0].get_ydata(),where='steps')\n",
    "#plt.show()\n",
    "#vc==cc\n",
    "print(cl.integrate(),cc.integrate())\n",
    "cl.compare(cc*Step(start=pd.Timestamp(2020,10,10),end=pd.Timestamp(2020,11,1)))"
   ]
  },
  {
   "cell_type": "code",
   "execution_count": null,
   "metadata": {},
   "outputs": [],
   "source": [
    "vc = vsteps.clip(ubound=pd.Timestamp(2020,1,10))\n",
    "#const = Steps(weight=3)\n",
    "#const = Steps(False).add_direct([None],[None],[3])\n",
    "\n",
    "vc_const = vsteps+3\n",
    "vc_const.plot()\n",
    "#print(const.first(),const.last())"
   ]
  },
  {
   "cell_type": "code",
   "execution_count": null,
   "metadata": {},
   "outputs": [],
   "source": [
    "vc = vsteps.clip(ubound=pd.Timestamp(2020,1,10))\n",
    "p = np.arange(vc.first()-pd.Timedelta(minutes=5),vc.last()+pd.Timedelta(minutes=5),pd.Timedelta(minutes=1)).astype(pd.Timestamp)\n",
    "ax = vc.plot(color='g')\n",
    "queue.clip(upper=pd.Timestamp(2020,1,10)).plot(ax=ax)\n",
    "ax.step(p,vc.step(p),color='r')\n"
   ]
  },
  {
   "cell_type": "code",
   "execution_count": null,
   "metadata": {},
   "outputs": [],
   "source": [
    "\n",
    "#mbase = np.frompyfunc(mybase2,1,1)\n",
    "#tbase = Basis(Basis.sigmoid,5)\n",
    "\n",
    "\n",
    "x = Step(3.75,5)\n",
    "y = Step(5.6,6)\n",
    "y2 = Step(8.2,8.8)\n",
    "y3 = Step(9.2,9.8)\n",
    "\n",
    "#y3.rebase()\n",
    "z = Step(7.2)\n",
    "q = Step(12)\n",
    "\n",
    "p = Step(9,weight=-1)\n",
    "p1 = Step(9.5,weight=-1)\n",
    "\n",
    "ss1 = Steps()\n",
    "ss1 = ss1.add([z,x,y])\n",
    "\n",
    "ss2 = Steps()\n",
    "ss2 = ss2.add([q,x,p])\n",
    "ss3 = Steps().add([Step(4),Step(4),Step(5,6),Step(7),Step(12),Step(9,weight=-1)])\n",
    "\n",
    "y4 = y2 << 0.3\n",
    "ss3 = ss2 + ss1\n",
    "ss4 = ss3+y2\n",
    "ss4 += y3\n",
    "\n",
    "ss5 = Steps().add([y2,y3])\n",
    "\n",
    "yy =  y+y2+y3 + y4\n",
    "fig,ax = plt.subplots(nrows=6,figsize=(18,14))\n",
    "\n",
    "ss1.plot(ax=ax[0])\n",
    "(ss2-yy-yy).plot(ax=ax[1])\n",
    "ss3.plot(ax=ax[2])\n",
    "(ss4+ss3).plot(ax=ax[3])\n",
    "yy.plot(ax=ax[5])\n",
    "(yy-y4).plot(ax=ax[5])\n",
    "\n",
    "y3.reflect().plot(ax=ax[4])\n"
   ]
  },
  {
   "cell_type": "code",
   "execution_count": null,
   "metadata": {},
   "outputs": [],
   "source": [
    "ax = (ss3+y2).plot()\n",
    "(ss3+y2).plot(method='function',ax=ax,color='g',ts_grain=0.05)"
   ]
  },
  {
   "cell_type": "code",
   "execution_count": null,
   "metadata": {},
   "outputs": [],
   "source": [
    "print(queue.integrate(),queue.mean(),queue.var(),queue.mode(),queue.median(),queue.min(),queue.max(),queue.percentile(50),queue.percentile(37))\n",
    "print(vsteps.integrate(),vsteps.mean(),vsteps.var(),vsteps.mode(), vsteps.median(),vsteps.min(),vsteps.max(),vsteps.percentile(50),vsteps.percentile(37))"
   ]
  },
  {
   "cell_type": "code",
   "execution_count": null,
   "metadata": {},
   "outputs": [],
   "source": [
    "vsteps.ecdf_plot()"
   ]
  },
  {
   "cell_type": "code",
   "execution_count": null,
   "metadata": {},
   "outputs": [],
   "source": [
    "vsteps.normalise().integrate()"
   ]
  },
  {
   "cell_type": "code",
   "execution_count": null,
   "metadata": {},
   "outputs": [],
   "source": []
  }
 ],
 "metadata": {
  "kernelspec": {
   "display_name": "Python 3",
   "language": "python",
   "name": "python3"
  },
  "language_info": {
   "codemirror_mode": {
    "name": "ipython",
    "version": 3
   },
   "file_extension": ".py",
   "mimetype": "text/x-python",
   "name": "python",
   "nbconvert_exporter": "python",
   "pygments_lexer": "ipython3",
   "version": "3.8.5-final"
  }
 },
 "nbformat": 4,
 "nbformat_minor": 4
}