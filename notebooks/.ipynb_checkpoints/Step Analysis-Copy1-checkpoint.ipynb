{
 "cells": [
  {
   "cell_type": "code",
   "execution_count": null,
   "metadata": {},
   "outputs": [],
   "source": [
    "import staircase as sc\n",
    "from imports import *\n",
    "from datetime import datetime,timedelta\n",
    "from hotstepper.utils.Utils import prepare_input,get_value,prepare_datetime,get_dt\n",
    "%matplotlib inline\n",
    "import operator\n",
    "import warnings\n",
    "warnings.filterwarnings(\"ignore\")\n"
   ]
  },
  {
   "cell_type": "code",
   "execution_count": null,
   "metadata": {},
   "outputs": [],
   "source": [
    "df = pd.read_csv(r\"../data/page_views.csv\")\n",
    "\n",
    "#vsteps = Steps.read_dataframe(df,'start','ends')\n",
    "vsteps = Steps(False).add_direct(df.start,df.ends)\n",
    "queue = sc.Stairs().layer(df.start, df.ends)\n",
    "\n",
    "df.tail()"
   ]
  },
  {
   "cell_type": "code",
   "execution_count": null,
   "metadata": {},
   "outputs": [],
   "source": [
    "print(queue.integrate(),queue.mean(),queue.var(),queue.mode(),queue.median(),queue.min(),queue.max(),queue.percentile(50),queue.percentile(37))\n",
    "print(vsteps.integrate(),vsteps.mean(),vsteps.var(),vsteps.mode(), vsteps.median(),vsteps.min(),vsteps.max(),vsteps.percentile(50),vsteps.percentile(37))"
   ]
  },
  {
   "cell_type": "code",
   "execution_count": null,
   "metadata": {},
   "outputs": [],
   "source": [
    "from sklearn.utils.extmath import weighted_mode\n",
    "\n",
    "vvals = vsteps.step_values()\n",
    "mi,ma,s,w = vsteps.span_and_weights()\n",
    "\n",
    "weighted_mode(vvals[1:-1], w)"
   ]
  },
  {
   "cell_type": "code",
   "execution_count": null,
   "metadata": {},
   "outputs": [],
   "source": [
    "vvals = vsteps.step_values()\n",
    "mi,ma,s,w = vsteps.span_and_weights()\n",
    "vals,counts = np.unique(vvals[1:-1], return_counts=True)\n",
    "index = np.argmax(counts)\n",
    "vvals[index]\n"
   ]
  },
  {
   "cell_type": "code",
   "execution_count": null,
   "metadata": {},
   "outputs": [],
   "source": [
    "df = pd.DataFrame({\n",
    "    'time': prepare_datetime(vsteps.step_keys()),\n",
    "    'values': vsteps.step_values()\n",
    "})\n",
    "\n",
    "df.to_csv('page_view_values.csv',index=False)"
   ]
  },
  {
   "cell_type": "code",
   "execution_count": null,
   "metadata": {},
   "outputs": [],
   "source": [
    "#p = np.arange(pd.Timestamp(2020,1,1), pd.Timestamp(2020,12,30), pd.Timedelta(hours=1)).astype(pd.Timestamp)\n",
    "p = np.arange(-100, 1500, 0.1)\n",
    "fig,ax = plt.subplots(nrows=9,figsize=(32,24))\n",
    "\n",
    "st,se,span,_ = vsteps.span_and_weights()\n",
    "\n",
    "#print(st,se,span)\n",
    "#error here, this isn't the same as Step() - Step(start=st+0.5*span,weight=2)\n",
    "#haar = Steps().add([Step(start=st,end=st+0.5*span),Step(start=se-0.5*span,end=se,weight=-1)])\n",
    "haar = Steps().add_direct([st,se-0.5*span],[st+0.5*span,se])\n",
    "#haar00 = Step(end=st+0.5*span,weight=1) - Step(start=st+0.5*span,weight=2)\n",
    "\n",
    "#haar = Step() - Step(start=st+0.5*span,weight=2)\n",
    "\n",
    "#print(haar0,'| - |',haar)\n",
    "#vsteps.rebase(tbase)\n",
    "vs_clip = vsteps.clip(ubound=550.0)\n",
    "\n",
    "vsteps.plot(ax=ax[0])\n",
    "#ax[0].step(p,vsteps.step(p))\n",
    "vsteps.smooth_plot(ax=ax[0],color='g',linewidth=3,smooth_factor=20)\n",
    "\n",
    "queue = sc.Stairs().layer(df.start, df.ends)\n",
    "queue.plot(ax[1])\n",
    "\n",
    "#(vsteps>7).plot(ax=ax[1],color='r')\n",
    "\n",
    "qc = queue.clip(upper=550)\n",
    "qc.plot(ax[2])\n",
    "vs_clip.plot(ax=ax[3])\n",
    "(vsteps*haar).plot(ax=ax[4])\n",
    "(vs_clip+Step(400,weight=5)).plot(ax=ax[2],color='r')\n",
    "vs_clip.smooth_plot(ax=ax[2],color='g',smooth_factor=10, linewidth=3)\n",
    "vs_clip.normalise().plot(ax=ax[2],color='r')\n",
    "\n",
    "#vsteps.histogram_plot(ax=ax[6],kind='bar')\n",
    "#xx = vsteps.pacf_plot(10,ax=ax[3],kind='bar')\n",
    "#xx.axhline(0,c='black',linestyle=':')\n",
    "#vsteps.ecdf_plot(ax=ax[7])\n",
    "\n",
    "(vs_clip>7).plot(ax=ax[5])\n",
    "(vs_clip>7).smooth_plot(ax=ax[5],color='r',smooth_factor=15)\n",
    "((qc>7)).plot(ax=ax[5])\n",
    "#((qc>7)*qc).plot(ax=ax[6])\n",
    "#(vs_clip>7).normalise(5).plot(ax=ax[6])\n",
    "#(((vs_clip>7).normalise())*vs_clip).plot(ax=ax[7])\n",
    "#(vs_clip>5).normalise().plot(ax=ax[5],color='r')\n",
    "\n",
    "\n",
    "# vs_clip.plot(ax=ax[5])\n",
    "# (vs_clip>7).plot(ax=ax[5],color='r')\n",
    "# t = np.arange(-100.0,1500.0,0.1)\n",
    "# t2 = np.arange(490.0,520.0,0.1)\n",
    "\n",
    "clip_step = Step(start=400,end=800)\n",
    "(vsteps*clip_step).plot(ax=ax[8])\n",
    "vc = vsteps.clip(lbound=400,ubound=800)\n",
    "#vc.plot(ax=ax[7],color='r')\n",
    "(vsteps*clip_step).smooth_plot(ax=ax[8],color='g',ts_grain=0.5,smooth_factor=15)\n",
    "\n",
    "# vsteps.clip(lbound=400,ubound=800).plot(ax=ax[7],color='r')\n",
    "# vsteps.clip(lbound=400,ubound=800).smooth_plot(ax=ax[7],color='g',ts_grain=0.5,smooth_factor=15)\n",
    "\n",
    "(vsteps*haar).plot(ax=ax[8])\n",
    "(vsteps*haar).smooth_plot(ax=ax[8],color='g',ts_grain=0.5,smooth_factor=15)\n"
   ]
  },
  {
   "cell_type": "code",
   "execution_count": null,
   "metadata": {},
   "outputs": [],
   "source": [
    "vc(800)"
   ]
  },
  {
   "cell_type": "code",
   "execution_count": null,
   "metadata": {},
   "outputs": [],
   "source": [
    "#%%timeit -r 3 -n 3\n",
    "clip_step = Step(start=400,end=800,weight=15)\n",
    "vm = vsteps+clip_step\n",
    "vm.plot()"
   ]
  },
  {
   "cell_type": "code",
   "execution_count": null,
   "metadata": {},
   "outputs": [],
   "source": [
    "%%timeit -r 3 -n 3\n",
    "vsteps.clip(lbound=400,ubound=800)"
   ]
  },
  {
   "cell_type": "code",
   "execution_count": null,
   "metadata": {},
   "outputs": [],
   "source": [
    "h = Step(900)\n",
    "h2 = Step(820)\n",
    "h3 = Step(end=800)\n",
    "ss = Step(850,950)\n",
    "\n",
    "ax = h.plot()\n",
    "h2.plot(ax=ax,color='g')\n",
    "h3.plot(ax=ax,color='blue',linestyle=':')\n",
    "ss.plot(ax=ax,color='r')\n"
   ]
  },
  {
   "cell_type": "code",
   "execution_count": null,
   "metadata": {},
   "outputs": [],
   "source": [
    "print(queue.integrate(),queue.mean(),queue.var(),queue.mode())\n",
    "print(vsteps.integrate(),vsteps.mean(),vsteps.var(),vsteps.mode())"
   ]
  },
  {
   "cell_type": "code",
   "execution_count": null,
   "metadata": {},
   "outputs": [],
   "source": []
  }
 ],
 "metadata": {
  "kernelspec": {
   "display_name": "Python 3",
   "language": "python",
   "name": "python3"
  },
  "language_info": {
   "codemirror_mode": {
    "name": "ipython",
    "version": 3
   },
   "file_extension": ".py",
   "mimetype": "text/x-python",
   "name": "python",
   "nbconvert_exporter": "python",
   "pygments_lexer": "ipython3",
   "version": "3.8.5"
  }
 },
 "nbformat": 4,
 "nbformat_minor": 4
}
