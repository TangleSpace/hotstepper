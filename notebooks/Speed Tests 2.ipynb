{
 "metadata": {
  "language_info": {
   "codemirror_mode": {
    "name": "ipython",
    "version": 3
   },
   "file_extension": ".py",
   "mimetype": "text/x-python",
   "name": "python",
   "nbconvert_exporter": "python",
   "pygments_lexer": "ipython3",
   "version": "3.8.5-final"
  },
  "orig_nbformat": 2,
  "kernelspec": {
   "name": "python3",
   "display_name": "Python 3.8.5 64-bit (conda)",
   "metadata": {
    "interpreter": {
     "hash": "97ae724bfa85b9b34df7982b8bb8c7216f435b92902d749e4263f71162bea840"
    }
   }
  }
 },
 "nbformat": 4,
 "nbformat_minor": 2,
 "cells": [
  {
   "cell_type": "code",
   "execution_count": null,
   "metadata": {},
   "outputs": [],
   "source": [
    "from imports import *\n",
    "import staircase as sc\n",
    "%matplotlib inline\n",
    "import operator\n",
    "import warnings\n",
    "from hotstepper.Utils import Utils\n",
    "warnings.filterwarnings(\"ignore\")"
   ]
  },
  {
   "cell_type": "code",
   "execution_count": null,
   "metadata": {},
   "outputs": [],
   "source": [
    "df = pd.read_csv(r\"../data/hotel_stays.csv\", parse_dates=['check_in', 'check_out'], dayfirst=True)\n",
    "\n",
    "#df = df_cc.loc[df_cc.call_type == 'Type 1']\n",
    "\n",
    "df.shape"
   ]
  },
  {
   "cell_type": "code",
   "execution_count": null,
   "metadata": {},
   "outputs": [],
   "source": [
    "hotel_stays = Steps.read_dataframe(df,'check_in', 'check_out')\n",
    "queue = sc.Stairs(use_dates=True).layer(df.check_in, df.check_out)"
   ]
  },
  {
   "cell_type": "code",
   "execution_count": null,
   "metadata": {},
   "outputs": [],
   "source": [
    "%%timeit -r 3 -n 3\n",
    "hotel_stays = Steps.read_dataframe(df,'check_in', 'check_out')"
   ]
  },
  {
   "cell_type": "code",
   "execution_count": null,
   "metadata": {},
   "outputs": [],
   "source": [
    "%prun Steps.read_dataframe(df,'check_in', 'check_out')"
   ]
  },
  {
   "cell_type": "code",
   "execution_count": null,
   "metadata": {},
   "outputs": [],
   "source": [
    "%prun queue = sc.Stairs(use_dates=True).layer(df.check_in, df.check_out)"
   ]
  },
  {
   "cell_type": "code",
   "execution_count": null,
   "metadata": {},
   "outputs": [],
   "source": [
    "%%timeit -r 3 -n 3\n",
    "queue = sc.Stairs(use_dates=True).layer(df.check_in, df.check_out)"
   ]
  },
  {
   "cell_type": "code",
   "execution_count": null,
   "metadata": {},
   "outputs": [],
   "source": [
    "ax = hotel_stays.plot()\n",
    "queue.plot(ax=ax)"
   ]
  },
  {
   "cell_type": "code",
   "execution_count": null,
   "metadata": {},
   "outputs": [],
   "source": [
    "n1 = np.array([[1,2,3],[4,5,6],[9,-8,7],[1,-2,9]])\n",
    "n2 = np.array([[1,2,3],[4,5,6],[9,-8,7],[1,-2,9]])\n",
    "\n",
    "nn = n1[:,1]*n1[:,2]\n",
    "nn"
   ]
  },
  {
   "cell_type": "code",
   "execution_count": null,
   "metadata": {},
   "outputs": [],
   "source": [
    "n12 = np.append(n1,n2,axis=0)\n",
    "n12"
   ]
  },
  {
   "cell_type": "code",
   "execution_count": null,
   "metadata": {},
   "outputs": [],
   "source": [
    "ne = np.empty([1,3],dtype=float)\n",
    "ne = np.append(ne,n1,axis=0)\n",
    "ne = np.append(ne,n2,axis=0)\n",
    "ne.shape"
   ]
  },
  {
   "cell_type": "code",
   "execution_count": null,
   "metadata": {},
   "outputs": [],
   "source": [
    "import pendulum as pdates\n",
    "dat = Utils.get_epoch_start(True)\n",
    "pdat = pdates.from_timestamp(int(float(dat.timestamp())))\n",
    "print(dat,pdat)"
   ]
  },
  {
   "cell_type": "code",
   "execution_count": null,
   "metadata": {},
   "outputs": [],
   "source": []
  }
 ]
}