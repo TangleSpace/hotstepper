{
 "metadata": {
  "language_info": {
   "codemirror_mode": {
    "name": "ipython",
    "version": 3
   },
   "file_extension": ".py",
   "mimetype": "text/x-python",
   "name": "python",
   "nbconvert_exporter": "python",
   "pygments_lexer": "ipython3",
   "version": "3.8.5-final"
  },
  "orig_nbformat": 2,
  "kernelspec": {
   "name": "python3",
   "display_name": "Python 3",
   "language": "python"
  }
 },
 "nbformat": 4,
 "nbformat_minor": 2,
 "cells": [
  {
   "cell_type": "code",
   "execution_count": 1,
   "metadata": {},
   "outputs": [],
   "source": [
    "import matplotlib.pyplot as plt\n",
    "import numpy as np\n",
    "import pandas as pd\n",
    "from imports import *\n",
    "from hotstepper.utilities.helpers import *\n",
    "import operator\n",
    "from datetime import datetime, timedelta\n",
    "import staircase as sc\n",
    "%matplotlib inline\n",
    "\n",
    "import warnings\n",
    "warnings.filterwarnings(\"ignore\")"
   ]
  },
  {
   "cell_type": "code",
   "execution_count": null,
   "metadata": {},
   "outputs": [],
   "source": [
    "s1 = Step(end=pd.Timestamp(2020,1,1))\n",
    "ax = s1.plot()\n",
    "\n",
    "p = np.arange(pd.Timestamp(2019,12,31),pd.Timestamp(2020,1,4),pd.Timedelta(minutes=1)).astype(pd.Timestamp)\n",
    "ax.step(p,s1.step(p),color='g')\n",
    "ax.step(p,s1.smooth_step(p,smooth_factor=30000),color='r')\n",
    "s1.smooth_plot(ax=ax,smooth_factor=100000,color='g')\n",
    "\n",
    "s2 = Step(start=pd.Timestamp(2020,1,1),end=pd.Timestamp(2020,1,3),weight=2)\n",
    "ax2 = s2.plot()\n",
    "ax2.step(p,s2.step(p),color='g')\n",
    "ax2.step(p,s2.smooth_step(p,smooth_factor=30000),color='r')\n",
    "s2.smooth_plot(ax=ax2,smooth_factor=30000,color='blue')\n"
   ]
  },
  {
   "cell_type": "code",
   "execution_count": null,
   "metadata": {},
   "outputs": [],
   "source": [
    "haar = Steps().add([Step(start=0,end=0.5),Step(start=0.5,end=1,weight=-1)])\n",
    "haar.plot()"
   ]
  },
  {
   "cell_type": "code",
   "execution_count": 4,
   "metadata": {},
   "outputs": [
    {
     "output_type": "stream",
     "name": "stdout",
     "text": [
      "3.0:1.0\n5.0:1.0\n6.0:-1.0\n7.0:1.0\n10.0:-1.0\n"
     ]
    }
   ],
   "source": [
    "s1 = Step(5,10)\n",
    "s2 = Step(7)\n",
    "s3 = Step(3,6)\n",
    "\n",
    "sts = Steps().add([s1,s2,s3])\n",
    "for i,s in enumerate(sts):\n",
    "    print(s)"
   ]
  },
  {
   "cell_type": "code",
   "execution_count": null,
   "metadata": {},
   "outputs": [],
   "source": []
  }
 ]
}